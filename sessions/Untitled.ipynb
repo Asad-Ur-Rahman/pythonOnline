{
 "cells": [
  {
   "cell_type": "code",
   "execution_count": 2,
   "id": "8a3303ed",
   "metadata": {},
   "outputs": [
    {
     "name": "stdout",
     "output_type": "stream",
     "text": [
      "0.9999999999999999 is not 1.0\n"
     ]
    }
   ],
   "source": [
    "# %load float.py\n",
    "x = 0.0\n",
    "for i in range(10):\n",
    "    x = x + 0.1\n",
    "    \n",
    "if x == 1.0:\n",
    "    print(x, '= 1.0')\n",
    "else:\n",
    "    print(x, 'is not 1.0')"
   ]
  },
  {
   "cell_type": "code",
   "execution_count": null,
   "id": "6e87ae57",
   "metadata": {},
   "outputs": [],
   "source": [
    "%run float.py"
   ]
  },
  {
   "cell_type": "code",
   "execution_count": null,
   "id": "edeecf2b",
   "metadata": {},
   "outputs": [],
   "source": [
    "0.1 # decimal\n",
    "# binary\n",
    "11001100110011001100110011001100110011001100110011001"
   ]
  },
  {
   "cell_type": "code",
   "execution_count": null,
   "id": "921a475d",
   "metadata": {},
   "outputs": [],
   "source": [
    "0.1000000000000000055511151231257827021181583404541015625"
   ]
  },
  {
   "cell_type": "code",
   "execution_count": null,
   "id": "3da3d9bd",
   "metadata": {},
   "outputs": [],
   "source": [
    "0.1"
   ]
  },
  {
   "cell_type": "code",
   "execution_count": 5,
   "id": "0b6249ae",
   "metadata": {},
   "outputs": [
    {
     "name": "stdout",
     "output_type": "stream",
     "text": [
      "Enter any integer to find square root: 25\n",
      "7.25\n",
      "5.349137931034482\n",
      "5.011394106532552\n",
      "5.000012953048684\n",
      "number of iterations = 4\n",
      "Square root of 25 is 5.000012953048684\n"
     ]
    }
   ],
   "source": [
    "# %load newton.py\n",
    "x = int(input(\"Enter any integer to find square root: \"))\n",
    "\n",
    "epsilon = 0.01\n",
    "guess = x/2\n",
    "count = 0\n",
    "while abs(guess**2 - x) >= epsilon:\n",
    "    count = count + 1\n",
    "    guess = guess -(((guess**2) - x)/(2*guess))\n",
    "    print(guess)\n",
    "\n",
    "print(\"number of iterations =\", count)\n",
    "print(\"Square root of\", x, \"is\", guess)"
   ]
  },
  {
   "cell_type": "markdown",
   "id": "2fe7eb63",
   "metadata": {},
   "source": [
    "guess - (guess2 - k)/drevivtive trem\n",
    "x^2 - k =0"
   ]
  },
  {
   "cell_type": "code",
   "execution_count": null,
   "id": "50cab101",
   "metadata": {},
   "outputs": [],
   "source": []
  }
 ],
 "metadata": {
  "kernelspec": {
   "display_name": "Python 3 (ipykernel)",
   "language": "python",
   "name": "python3"
  },
  "language_info": {
   "codemirror_mode": {
    "name": "ipython",
    "version": 3
   },
   "file_extension": ".py",
   "mimetype": "text/x-python",
   "name": "python",
   "nbconvert_exporter": "python",
   "pygments_lexer": "ipython3",
   "version": "3.9.16"
  }
 },
 "nbformat": 4,
 "nbformat_minor": 5
}
