{
 "cells": [
  {
   "cell_type": "code",
   "execution_count": 1,
   "id": "eb6bcc9f",
   "metadata": {},
   "outputs": [],
   "source": [
    "x = \"My favrit professor-Andrew Ng.-rocks\""
   ]
  },
  {
   "cell_type": "code",
   "execution_count": 2,
   "id": "f79739d3",
   "metadata": {},
   "outputs": [
    {
     "data": {
      "text/plain": [
       "['My', 'favrit', 'professor-Andrew', 'Ng.-rocks']"
      ]
     },
     "execution_count": 2,
     "metadata": {},
     "output_type": "execute_result"
    }
   ],
   "source": [
    "x.split(\" \")"
   ]
  },
  {
   "cell_type": "code",
   "execution_count": 3,
   "id": "536d5d73",
   "metadata": {},
   "outputs": [
    {
     "data": {
      "text/plain": [
       "['My favrit professor', 'Andrew Ng.', 'rocks']"
      ]
     },
     "execution_count": 3,
     "metadata": {},
     "output_type": "execute_result"
    }
   ],
   "source": [
    "x.split('-')"
   ]
  },
  {
   "cell_type": "code",
   "execution_count": 4,
   "id": "823bed67",
   "metadata": {},
   "outputs": [
    {
     "data": {
      "text/plain": [
       "'skcor-.gN werdnA-rosseforp tirvaf yM'"
      ]
     },
     "execution_count": 4,
     "metadata": {},
     "output_type": "execute_result"
    }
   ],
   "source": [
    "x[::-1]"
   ]
  },
  {
   "cell_type": "code",
   "execution_count": 8,
   "id": "7c269d49",
   "metadata": {},
   "outputs": [],
   "source": [
    "motorcyles = {\"Yamha\", \"Suzuki\", 'BMW'} "
   ]
  },
  {
   "cell_type": "code",
   "execution_count": 10,
   "id": "71c6e977",
   "metadata": {},
   "outputs": [
    {
     "data": {
      "text/plain": [
       "{'BMW', 'Suzuki', 'Yamha'}"
      ]
     },
     "execution_count": 10,
     "metadata": {},
     "output_type": "execute_result"
    }
   ],
   "source": [
    "motorcyles"
   ]
  },
  {
   "cell_type": "code",
   "execution_count": 13,
   "id": "2afc9aab",
   "metadata": {},
   "outputs": [
    {
     "ename": "TypeError",
     "evalue": "'set' object is not subscriptable",
     "output_type": "error",
     "traceback": [
      "\u001b[1;31m---------------------------------------------------------------------------\u001b[0m",
      "\u001b[1;31mTypeError\u001b[0m                                 Traceback (most recent call last)",
      "\u001b[1;32m~\\AppData\\Local\\Temp\\ipykernel_20048\\1943370861.py\u001b[0m in \u001b[0;36m<module>\u001b[1;34m\u001b[0m\n\u001b[1;32m----> 1\u001b[1;33m \u001b[0mmotorcyles\u001b[0m\u001b[1;33m[\u001b[0m\u001b[1;36m0\u001b[0m\u001b[1;33m]\u001b[0m\u001b[1;33m\u001b[0m\u001b[1;33m\u001b[0m\u001b[0m\n\u001b[0m",
      "\u001b[1;31mTypeError\u001b[0m: 'set' object is not subscriptable"
     ]
    }
   ],
   "source": [
    "motorcyles[0]"
   ]
  },
  {
   "cell_type": "code",
   "execution_count": 14,
   "id": "7790a499",
   "metadata": {},
   "outputs": [],
   "source": [
    "motorcyles.add(\"Ducati\")"
   ]
  },
  {
   "cell_type": "code",
   "execution_count": 15,
   "id": "06848003",
   "metadata": {},
   "outputs": [],
   "source": [
    "motorcyles.add(\"MV Agusta\")"
   ]
  },
  {
   "cell_type": "code",
   "execution_count": 16,
   "id": "6fbe6017",
   "metadata": {},
   "outputs": [
    {
     "data": {
      "text/plain": [
       "{'BMW', 'Ducati', 'MV Agusta', 'Suzuki', 'Yamha'}"
      ]
     },
     "execution_count": 16,
     "metadata": {},
     "output_type": "execute_result"
    }
   ],
   "source": [
    "motorcyles"
   ]
  },
  {
   "cell_type": "code",
   "execution_count": 17,
   "id": "c57c717b",
   "metadata": {},
   "outputs": [],
   "source": [
    "motorcyles.add(\"MV Agusta\") # single element at a time"
   ]
  },
  {
   "cell_type": "code",
   "execution_count": 18,
   "id": "d2914645",
   "metadata": {},
   "outputs": [
    {
     "data": {
      "text/plain": [
       "{'BMW', 'Ducati', 'MV Agusta', 'Suzuki', 'Yamha'}"
      ]
     },
     "execution_count": 18,
     "metadata": {},
     "output_type": "execute_result"
    }
   ],
   "source": [
    "motorcyles"
   ]
  },
  {
   "cell_type": "code",
   "execution_count": 19,
   "id": "b09044a9",
   "metadata": {},
   "outputs": [],
   "source": [
    "motorcyles.update([\"Trimph\", \"Kaasaki\", \"Beneli\"]) # multiple elements "
   ]
  },
  {
   "cell_type": "code",
   "execution_count": 20,
   "id": "77e3d5bf",
   "metadata": {},
   "outputs": [
    {
     "data": {
      "text/plain": [
       "{'BMW',\n",
       " 'Beneli',\n",
       " 'Ducati',\n",
       " 'Kaasaki',\n",
       " 'MV Agusta',\n",
       " 'Suzuki',\n",
       " 'Trimph',\n",
       " 'Yamha'}"
      ]
     },
     "execution_count": 20,
     "metadata": {},
     "output_type": "execute_result"
    }
   ],
   "source": [
    "motorcyles"
   ]
  },
  {
   "cell_type": "code",
   "execution_count": 21,
   "id": "d862eb3e",
   "metadata": {},
   "outputs": [
    {
     "data": {
      "text/plain": [
       "False"
      ]
     },
     "execution_count": 21,
     "metadata": {},
     "output_type": "execute_result"
    }
   ],
   "source": [
    "{\"Toyota\", \"Honda\"}.issubset(motorcyles)"
   ]
  },
  {
   "cell_type": "code",
   "execution_count": 24,
   "id": "1a46b9ec",
   "metadata": {},
   "outputs": [
    {
     "ename": "AttributeError",
     "evalue": "'tuple' object has no attribute 'intersection'",
     "output_type": "error",
     "traceback": [
      "\u001b[1;31m---------------------------------------------------------------------------\u001b[0m",
      "\u001b[1;31mAttributeError\u001b[0m                            Traceback (most recent call last)",
      "\u001b[1;32m~\\AppData\\Local\\Temp\\ipykernel_20048\\1191397992.py\u001b[0m in \u001b[0;36m<module>\u001b[1;34m\u001b[0m\n\u001b[1;32m----> 1\u001b[1;33m \u001b[1;33m(\u001b[0m\u001b[1;33m{\u001b[0m\u001b[1;34m\"Toyota\"\u001b[0m\u001b[1;33m,\u001b[0m \u001b[1;34m\"Honda\"\u001b[0m\u001b[1;33m}\u001b[0m\u001b[1;33m.\u001b[0m\u001b[0munion\u001b[0m\u001b[1;33m(\u001b[0m\u001b[0mmotorcyles\u001b[0m\u001b[1;33m)\u001b[0m\u001b[1;33m,\u001b[0m\u001b[1;33m)\u001b[0m\u001b[1;33m.\u001b[0m\u001b[0mintersection\u001b[0m\u001b[1;33m(\u001b[0m\u001b[1;33m{\u001b[0m\u001b[1;34m\"Benelli\"\u001b[0m\u001b[1;33m,\u001b[0m\u001b[1;34m\"Nortan\"\u001b[0m\u001b[1;33m}\u001b[0m\u001b[1;33m)\u001b[0m\u001b[1;33m\u001b[0m\u001b[1;33m\u001b[0m\u001b[0m\n\u001b[0m",
      "\u001b[1;31mAttributeError\u001b[0m: 'tuple' object has no attribute 'intersection'"
     ]
    }
   ],
   "source": [
    "({\"Toyota\", \"Honda\"}.union(motorcyles)).intersection({\"Benelli\",\"Nortan\"})"
   ]
  },
  {
   "cell_type": "code",
   "execution_count": null,
   "id": "7c0dbd5c",
   "metadata": {},
   "outputs": [],
   "source": []
  }
 ],
 "metadata": {
  "kernelspec": {
   "display_name": "Python 3 (ipykernel)",
   "language": "python",
   "name": "python3"
  },
  "language_info": {
   "codemirror_mode": {
    "name": "ipython",
    "version": 3
   },
   "file_extension": ".py",
   "mimetype": "text/x-python",
   "name": "python",
   "nbconvert_exporter": "python",
   "pygments_lexer": "ipython3",
   "version": "3.9.16"
  }
 },
 "nbformat": 4,
 "nbformat_minor": 5
}
