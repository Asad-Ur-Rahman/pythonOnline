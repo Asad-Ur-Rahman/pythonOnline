{
 "cells": [
  {
   "cell_type": "code",
   "execution_count": 1,
   "id": "199145db",
   "metadata": {},
   "outputs": [],
   "source": [
    "x = lambda a : a + 1"
   ]
  },
  {
   "cell_type": "code",
   "execution_count": 2,
   "id": "1b6a7653",
   "metadata": {},
   "outputs": [
    {
     "data": {
      "text/plain": [
       "4"
      ]
     },
     "execution_count": 2,
     "metadata": {},
     "output_type": "execute_result"
    }
   ],
   "source": [
    "x(3)"
   ]
  },
  {
   "cell_type": "code",
   "execution_count": 3,
   "id": "d1ec6a46",
   "metadata": {},
   "outputs": [],
   "source": [
    "y = lambda a,b : a * b"
   ]
  },
  {
   "cell_type": "code",
   "execution_count": 4,
   "id": "d1691726",
   "metadata": {},
   "outputs": [
    {
     "data": {
      "text/plain": [
       "18"
      ]
     },
     "execution_count": 4,
     "metadata": {},
     "output_type": "execute_result"
    }
   ],
   "source": [
    "y(3,6)"
   ]
  },
  {
   "cell_type": "code",
   "execution_count": 5,
   "id": "7c2e91d7",
   "metadata": {},
   "outputs": [],
   "source": [
    "z = lambda x,y,z: x + y +z"
   ]
  },
  {
   "cell_type": "code",
   "execution_count": null,
   "id": "1978419b",
   "metadata": {},
   "outputs": [],
   "source": [
    "z()"
   ]
  },
  {
   "cell_type": "code",
   "execution_count": 7,
   "id": "7ec2d580",
   "metadata": {},
   "outputs": [
    {
     "data": {
      "text/plain": [
       "6"
      ]
     },
     "execution_count": 7,
     "metadata": {},
     "output_type": "execute_result"
    }
   ],
   "source": [
    "z(1,2,3)"
   ]
  },
  {
   "cell_type": "code",
   "execution_count": null,
   "id": "21cb64ca",
   "metadata": {},
   "outputs": [],
   "source": [
    "def funcPwr(n):\n",
    "    return lambda a: a * n"
   ]
  },
  {
   "cell_type": "code",
   "execution_count": null,
   "id": "eec571f3",
   "metadata": {},
   "outputs": [],
   "source": []
  },
  {
   "cell_type": "code",
   "execution_count": 9,
   "id": "e1f4dd74",
   "metadata": {},
   "outputs": [],
   "source": [
    "name = \"asad\""
   ]
  },
  {
   "cell_type": "code",
   "execution_count": 10,
   "id": "e7731520",
   "metadata": {},
   "outputs": [
    {
     "ename": "TypeError",
     "evalue": "'str' object does not support item assignment",
     "output_type": "error",
     "traceback": [
      "\u001b[1;31m---------------------------------------------------------------------------\u001b[0m",
      "\u001b[1;31mTypeError\u001b[0m                                 Traceback (most recent call last)",
      "\u001b[1;32m~\\AppData\\Local\\Temp\\ipykernel_18784\\2563617953.py\u001b[0m in \u001b[0;36m<module>\u001b[1;34m\u001b[0m\n\u001b[1;32m----> 1\u001b[1;33m \u001b[0mname\u001b[0m\u001b[1;33m[\u001b[0m\u001b[1;36m0\u001b[0m\u001b[1;33m]\u001b[0m \u001b[1;33m=\u001b[0m \u001b[1;34m\"A\"\u001b[0m\u001b[1;33m\u001b[0m\u001b[1;33m\u001b[0m\u001b[0m\n\u001b[0m",
      "\u001b[1;31mTypeError\u001b[0m: 'str' object does not support item assignment"
     ]
    }
   ],
   "source": [
    "name[0] = \"A\""
   ]
  },
  {
   "cell_type": "code",
   "execution_count": 11,
   "id": "98b57baf",
   "metadata": {},
   "outputs": [],
   "source": [
    "t1 = ()"
   ]
  },
  {
   "cell_type": "code",
   "execution_count": 12,
   "id": "c468f14b",
   "metadata": {},
   "outputs": [],
   "source": [
    "t2 = (1,\"a\", True)"
   ]
  },
  {
   "cell_type": "code",
   "execution_count": 21,
   "id": "1a9a50b6",
   "metadata": {},
   "outputs": [],
   "source": [
    "t3 = (3,)"
   ]
  },
  {
   "cell_type": "code",
   "execution_count": 17,
   "id": "c2b89464",
   "metadata": {},
   "outputs": [
    {
     "data": {
      "text/plain": [
       "(3,)"
      ]
     },
     "execution_count": 17,
     "metadata": {},
     "output_type": "execute_result"
    }
   ],
   "source": [
    "t3"
   ]
  },
  {
   "cell_type": "code",
   "execution_count": 20,
   "id": "ac1bdc46",
   "metadata": {},
   "outputs": [
    {
     "data": {
      "text/plain": [
       "int"
      ]
     },
     "execution_count": 20,
     "metadata": {},
     "output_type": "execute_result"
    }
   ],
   "source": [
    "type(t3)"
   ]
  },
  {
   "cell_type": "code",
   "execution_count": 15,
   "id": "3f4acf75",
   "metadata": {},
   "outputs": [
    {
     "data": {
      "text/plain": [
       "()"
      ]
     },
     "execution_count": 15,
     "metadata": {},
     "output_type": "execute_result"
    }
   ],
   "source": [
    "t1"
   ]
  },
  {
   "cell_type": "code",
   "execution_count": 22,
   "id": "3be874d7",
   "metadata": {},
   "outputs": [],
   "source": [
    "t4 = (1,\"\")"
   ]
  },
  {
   "cell_type": "code",
   "execution_count": 23,
   "id": "80f8fa71",
   "metadata": {},
   "outputs": [
    {
     "data": {
      "text/plain": [
       "(1, '')"
      ]
     },
     "execution_count": 23,
     "metadata": {},
     "output_type": "execute_result"
    }
   ],
   "source": [
    "t4"
   ]
  },
  {
   "cell_type": "code",
   "execution_count": 24,
   "id": "0c32d0e7",
   "metadata": {},
   "outputs": [
    {
     "data": {
      "text/plain": [
       "(1, True, 'Asad', 1, True, 'Asad', 1, True, 'Asad')"
      ]
     },
     "execution_count": 24,
     "metadata": {},
     "output_type": "execute_result"
    }
   ],
   "source": [
    "(1,True, \"Asad\") * 3"
   ]
  },
  {
   "cell_type": "code",
   "execution_count": 25,
   "id": "699da160",
   "metadata": {},
   "outputs": [
    {
     "name": "stdout",
     "output_type": "stream",
     "text": [
      "((1, 'two', 3), 3.25)\n",
      "(1, 'two', 3, (1, 'two', 3), 3.25)\n",
      "(1, 'two', 3)\n",
      "(3, (1, 'two', 3), 3.25)\n"
     ]
    }
   ],
   "source": [
    "t1 = (1, 'two', 3)\n",
    "t2 = (t1, 3.25)\n",
    "      \n",
    "print(t2)\n",
    "print((t1 + t2))\n",
    "print((t1 + t2)[3])\n",
    "print((t1 + t2)[2:5])"
   ]
  },
  {
   "cell_type": "code",
   "execution_count": 26,
   "id": "8fc8cc14",
   "metadata": {},
   "outputs": [
    {
     "data": {
      "text/plain": [
       "(1, 'two', 3, (1, 'two', 3), 3.25)"
      ]
     },
     "execution_count": 26,
     "metadata": {},
     "output_type": "execute_result"
    }
   ],
   "source": [
    "t1 + t2"
   ]
  },
  {
   "cell_type": "code",
   "execution_count": 29,
   "id": "a4cc9389",
   "metadata": {},
   "outputs": [
    {
     "data": {
      "text/plain": [
       "((1, 2, 3, 4, 5),)"
      ]
     },
     "execution_count": 29,
     "metadata": {},
     "output_type": "execute_result"
    }
   ],
   "source": [
    "((1,2,3,4,5),)"
   ]
  },
  {
   "cell_type": "code",
   "execution_count": 30,
   "id": "00bb8364",
   "metadata": {},
   "outputs": [],
   "source": [
    "a,b,c = 'xyz'"
   ]
  },
  {
   "cell_type": "code",
   "execution_count": 31,
   "id": "45b0ef15",
   "metadata": {},
   "outputs": [],
   "source": [
    "x,y = (3,4)"
   ]
  },
  {
   "cell_type": "code",
   "execution_count": 32,
   "id": "973c67e7",
   "metadata": {},
   "outputs": [
    {
     "data": {
      "text/plain": [
       "3"
      ]
     },
     "execution_count": 32,
     "metadata": {},
     "output_type": "execute_result"
    }
   ],
   "source": [
    "x"
   ]
  },
  {
   "cell_type": "code",
   "execution_count": 33,
   "id": "c0498040",
   "metadata": {},
   "outputs": [
    {
     "data": {
      "text/plain": [
       "4"
      ]
     },
     "execution_count": 33,
     "metadata": {},
     "output_type": "execute_result"
    }
   ],
   "source": [
    "y"
   ]
  },
  {
   "cell_type": "code",
   "execution_count": 34,
   "id": "fdbfceed",
   "metadata": {},
   "outputs": [],
   "source": [
    "x,y = 3, 4"
   ]
  },
  {
   "cell_type": "code",
   "execution_count": 38,
   "id": "ffde52c7",
   "metadata": {},
   "outputs": [],
   "source": [
    "def quotientAndRemainder(x,y):\n",
    "    \n",
    "    q = x // y # integer divisor\n",
    "    r = x % y # reminder\n",
    "    \n",
    "    return (q,r)"
   ]
  },
  {
   "cell_type": "code",
   "execution_count": 39,
   "id": "741fb48e",
   "metadata": {},
   "outputs": [],
   "source": [
    "a,b = quotientAndRemainder(4,5)"
   ]
  },
  {
   "cell_type": "code",
   "execution_count": 40,
   "id": "6acdba0b",
   "metadata": {},
   "outputs": [
    {
     "name": "stdout",
     "output_type": "stream",
     "text": [
      "0 4\n"
     ]
    }
   ],
   "source": [
    "print(a,b)"
   ]
  },
  {
   "cell_type": "code",
   "execution_count": null,
   "id": "a6078a13",
   "metadata": {},
   "outputs": [],
   "source": []
  }
 ],
 "metadata": {
  "kernelspec": {
   "display_name": "Python 3 (ipykernel)",
   "language": "python",
   "name": "python3"
  },
  "language_info": {
   "codemirror_mode": {
    "name": "ipython",
    "version": 3
   },
   "file_extension": ".py",
   "mimetype": "text/x-python",
   "name": "python",
   "nbconvert_exporter": "python",
   "pygments_lexer": "ipython3",
   "version": "3.9.16"
  }
 },
 "nbformat": 4,
 "nbformat_minor": 5
}
