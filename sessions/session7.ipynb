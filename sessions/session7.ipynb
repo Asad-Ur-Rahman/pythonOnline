{
 "cells": [
  {
   "cell_type": "markdown",
   "id": "9e551bc7",
   "metadata": {},
   "source": [
    "A computer does two things\n",
    "\n",
    "1. it performs calculations\n",
    "2. it remembers the results of those calculations"
   ]
  },
  {
   "cell_type": "code",
   "execution_count": null,
   "id": "ed08f20a",
   "metadata": {},
   "outputs": [],
   "source": []
  },
  {
   "cell_type": "markdown",
   "id": "cf658229",
   "metadata": {},
   "source": [
    "algorithm is a sequence of computational\n",
    "steps that transform the input into the output."
   ]
  },
  {
   "cell_type": "markdown",
   "id": "81000250",
   "metadata": {},
   "source": [
    "#### GUESS-AND-CHECK\n",
    "\n",
    "- given a problem…\n",
    "- you are able to guess a value for solution\n",
    "- you are able to check if the solution is correct\n",
    "- keep guessing until find solution or guessed all values"
   ]
  },
  {
   "cell_type": "code",
   "execution_count": 2,
   "id": "7dec7322",
   "metadata": {},
   "outputs": [
    {
     "name": "stdout",
     "output_type": "stream",
     "text": [
      "Enter any integer: 7\n",
      "7 is not a perfect cube\n"
     ]
    }
   ],
   "source": [
    "# %load cuberoot.py\n",
    "x = int(input(\"Enter any integer: \"))\n",
    "\n",
    "ans = 0\n",
    "\n",
    "while ans**3 < abs(x): # guessing 27\n",
    "    ans = ans +1\n",
    "\n",
    "\n",
    "if ans**3 != abs(x):\n",
    "    print(x,'is not a perfect cube')\n",
    "\n",
    "else:\n",
    "    if x < 0:\n",
    "        ans = -ans\n",
    "    print(\"Cube root of\", x, 'is', ans)\n"
   ]
  },
  {
   "cell_type": "code",
   "execution_count": null,
   "id": "b4bffe9e",
   "metadata": {},
   "outputs": [],
   "source": []
  },
  {
   "cell_type": "code",
   "execution_count": null,
   "id": "28a39ffc",
   "metadata": {},
   "outputs": [],
   "source": [
    "cube = 27\n",
    "#cube = 8120601\n",
    "\n",
    "for guess in range(abs(cube)+1):\n",
    "   # passed all potential cube roots\n",
    "   if guess**3 >= abs(cube):\n",
    "       # no need to keep searching\n",
    "       break\n",
    "if guess**3 != abs(cube):\n",
    "    print(cube, 'is not a perfect cube')\n",
    "else:\n",
    "    if cube < 0:\n",
    "        guess = -guess\n",
    "    print('Cube root of ' + str(cube) + ' is ' + str(guess))"
   ]
  },
  {
   "cell_type": "code",
   "execution_count": 2,
   "id": "13dcb4da",
   "metadata": {},
   "outputs": [
    {
     "data": {
      "text/plain": [
       "[[2, 2], [2, 2]]"
      ]
     },
     "execution_count": 2,
     "metadata": {},
     "output_type": "execute_result"
    }
   ],
   "source": [
    "x = [[2,2],[2,2]]\n",
    "x"
   ]
  },
  {
   "cell_type": "code",
   "execution_count": null,
   "id": "30533de7",
   "metadata": {},
   "outputs": [],
   "source": [
    "x = [2,2,5,6,9] "
   ]
  },
  {
   "cell_type": "code",
   "execution_count": null,
   "id": "55523ea8",
   "metadata": {},
   "outputs": [],
   "source": [
    "[[['#', '#', '#', '#', '#'],\n",
    "  ['#', '#', '#', '#', '#'],\n",
    "  ['#', '#', '#', '#', '#']],\n",
    " [['#', '#', '#', '#', '#'],\n",
    "  ['#', '#', '#', '#', '#'],\n",
    "  ['#', '#', '#', '#', '#']]]"
   ]
  }
 ],
 "metadata": {
  "kernelspec": {
   "display_name": "Python 3 (ipykernel)",
   "language": "python",
   "name": "python3"
  },
  "language_info": {
   "codemirror_mode": {
    "name": "ipython",
    "version": 3
   },
   "file_extension": ".py",
   "mimetype": "text/x-python",
   "name": "python",
   "nbconvert_exporter": "python",
   "pygments_lexer": "ipython3",
   "version": "3.9.13"
  }
 },
 "nbformat": 4,
 "nbformat_minor": 5
}
