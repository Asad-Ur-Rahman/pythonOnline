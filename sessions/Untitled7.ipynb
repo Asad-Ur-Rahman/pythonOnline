{
 "cells": [
  {
   "cell_type": "code",
   "execution_count": 1,
   "id": "4e614d37",
   "metadata": {},
   "outputs": [],
   "source": [
    "lst = [1,2,3]\n"
   ]
  },
  {
   "cell_type": "code",
   "execution_count": 2,
   "id": "9f3ae421",
   "metadata": {},
   "outputs": [
    {
     "name": "stdout",
     "output_type": "stream",
     "text": [
      "try again\n",
      "hello\n"
     ]
    }
   ],
   "source": [
    "try:\n",
    "    print(lst[3])\n",
    "\n",
    "except:\n",
    "    print(\"try again\")\n",
    "    \n",
    "print(\"hello\")"
   ]
  },
  {
   "cell_type": "code",
   "execution_count": 3,
   "id": "f0c7bc6a",
   "metadata": {},
   "outputs": [
    {
     "ename": "IndexError",
     "evalue": "list index out of range",
     "output_type": "error",
     "traceback": [
      "\u001b[1;31m---------------------------------------------------------------------------\u001b[0m",
      "\u001b[1;31mIndexError\u001b[0m                                Traceback (most recent call last)",
      "\u001b[1;32m~\\AppData\\Local\\Temp\\ipykernel_11204\\617436411.py\u001b[0m in \u001b[0;36m<module>\u001b[1;34m\u001b[0m\n\u001b[1;32m----> 1\u001b[1;33m \u001b[0mlst\u001b[0m\u001b[1;33m[\u001b[0m\u001b[1;36m3\u001b[0m\u001b[1;33m]\u001b[0m\u001b[1;33m\u001b[0m\u001b[1;33m\u001b[0m\u001b[0m\n\u001b[0m\u001b[0;32m      2\u001b[0m \u001b[0mprint\u001b[0m\u001b[1;33m(\u001b[0m\u001b[1;34m\"hello\"\u001b[0m\u001b[1;33m)\u001b[0m\u001b[1;33m\u001b[0m\u001b[1;33m\u001b[0m\u001b[0m\n",
      "\u001b[1;31mIndexError\u001b[0m: list index out of range"
     ]
    }
   ],
   "source": [
    "lst[3]\n",
    "print(\"hello\")"
   ]
  },
  {
   "cell_type": "code",
   "execution_count": 4,
   "id": "c59718d0",
   "metadata": {},
   "outputs": [
    {
     "name": "stdout",
     "output_type": "stream",
     "text": [
      "Please use the index value properely\n"
     ]
    }
   ],
   "source": [
    "try:\n",
    "    print(lst[3])\n",
    "\n",
    "except IndexError:\n",
    "    \n",
    "    print(\"Please use the index value properely\")\n",
    "    \n",
    "except:\n",
    "    print(\"try again\")"
   ]
  },
  {
   "cell_type": "code",
   "execution_count": 7,
   "id": "0aac3e14",
   "metadata": {},
   "outputs": [
    {
     "name": "stdout",
     "output_type": "stream",
     "text": [
      "Result is infinty ya undefined\n"
     ]
    }
   ],
   "source": [
    "x = 10\n",
    "y = 0\n",
    "\n",
    "\n",
    "try:\n",
    "    x/y\n",
    "    \n",
    "except IndexError:\n",
    "    \n",
    "    print(\"Please use the index value properely\")\n",
    "    \n",
    "except ValueError:\n",
    "    print(\"try again\")\n",
    "\n",
    "    \n",
    "except ZeroDivisionError:\n",
    "    print(\"Result is infinty ya undefined\")\n"
   ]
  },
  {
   "cell_type": "code",
   "execution_count": 8,
   "id": "9f6af4b8",
   "metadata": {},
   "outputs": [
    {
     "name": "stdout",
     "output_type": "stream",
     "text": [
      "Please use the index value properely\n",
      "list index out of range\n"
     ]
    }
   ],
   "source": [
    "try:\n",
    "    print(lst[3])\n",
    "\n",
    "except IndexError as idx:\n",
    "    \n",
    "    print(\"Please use the index value properely\")\n",
    "    print(idx)"
   ]
  },
  {
   "cell_type": "code",
   "execution_count": 9,
   "id": "f8cd14e8",
   "metadata": {},
   "outputs": [
    {
     "data": {
      "text/plain": [
       "[1, 2, 3]"
      ]
     },
     "execution_count": 9,
     "metadata": {},
     "output_type": "execute_result"
    }
   ],
   "source": [
    "lst"
   ]
  },
  {
   "cell_type": "code",
   "execution_count": 11,
   "id": "82e74ba0",
   "metadata": {},
   "outputs": [
    {
     "name": "stdout",
     "output_type": "stream",
     "text": [
      "2\n",
      "no error encountred\n"
     ]
    }
   ],
   "source": [
    "try:\n",
    "    print(lst[1])\n",
    "\n",
    "except:\n",
    "    print(\"Index not found\")\n",
    "else:\n",
    "    print(\"no error encountred\")"
   ]
  },
  {
   "cell_type": "code",
   "execution_count": 12,
   "id": "6e16c77a",
   "metadata": {},
   "outputs": [
    {
     "name": "stdout",
     "output_type": "stream",
     "text": [
      "Index not found\n"
     ]
    }
   ],
   "source": [
    "try:\n",
    "    print(lst[3])\n",
    "\n",
    "except:\n",
    "    print(\"Index not found\")\n",
    "else:\n",
    "    print(\"no error encountred\")"
   ]
  },
  {
   "cell_type": "code",
   "execution_count": 13,
   "id": "f961f0ba",
   "metadata": {},
   "outputs": [
    {
     "name": "stdout",
     "output_type": "stream",
     "text": [
      "Index not found\n",
      "finally bolck executed\n"
     ]
    }
   ],
   "source": [
    "try:\n",
    "    print(lst[3])\n",
    "\n",
    "except:\n",
    "    print(\"Index not found\")\n",
    "else:\n",
    "    print(\"no error encountred\")\n",
    "finally:\n",
    "    print(\"finally bolck executed\")"
   ]
  },
  {
   "cell_type": "code",
   "execution_count": 14,
   "id": "a03daaf7",
   "metadata": {},
   "outputs": [
    {
     "name": "stdout",
     "output_type": "stream",
     "text": [
      "2\n",
      "no error encountred\n",
      "finally bolck executed\n"
     ]
    }
   ],
   "source": [
    "try:\n",
    "    print(lst[1])\n",
    "\n",
    "except:\n",
    "    print(\"Index not found\")\n",
    "else:\n",
    "    print(\"no error encountred\")\n",
    "finally:\n",
    "    print(\"finally bolck executed\")"
   ]
  },
  {
   "cell_type": "code",
   "execution_count": 16,
   "id": "f27e9b1e",
   "metadata": {},
   "outputs": [],
   "source": [
    "x =  3\n",
    "\n",
    "if x > 4:\n",
    "    raise Exception(\"value greater than 4\")"
   ]
  },
  {
   "cell_type": "code",
   "execution_count": 17,
   "id": "d6c299d5",
   "metadata": {},
   "outputs": [
    {
     "ename": "Exception",
     "evalue": "value greater than 4",
     "output_type": "error",
     "traceback": [
      "\u001b[1;31m---------------------------------------------------------------------------\u001b[0m",
      "\u001b[1;31mException\u001b[0m                                 Traceback (most recent call last)",
      "\u001b[1;32m~\\AppData\\Local\\Temp\\ipykernel_11204\\3483227192.py\u001b[0m in \u001b[0;36m<module>\u001b[1;34m\u001b[0m\n\u001b[0;32m      2\u001b[0m \u001b[1;33m\u001b[0m\u001b[0m\n\u001b[0;32m      3\u001b[0m \u001b[1;32mif\u001b[0m \u001b[0mx\u001b[0m \u001b[1;33m>\u001b[0m \u001b[1;36m4\u001b[0m\u001b[1;33m:\u001b[0m\u001b[1;33m\u001b[0m\u001b[1;33m\u001b[0m\u001b[0m\n\u001b[1;32m----> 4\u001b[1;33m     \u001b[1;32mraise\u001b[0m \u001b[0mException\u001b[0m\u001b[1;33m(\u001b[0m\u001b[1;34m\"value greater than 4\"\u001b[0m\u001b[1;33m)\u001b[0m\u001b[1;33m\u001b[0m\u001b[1;33m\u001b[0m\u001b[0m\n\u001b[0m",
      "\u001b[1;31mException\u001b[0m: value greater than 4"
     ]
    }
   ],
   "source": [
    "x =  5\n",
    "\n",
    "if x > 4:\n",
    "    raise Exception(\"value greater than 4\")"
   ]
  },
  {
   "cell_type": "code",
   "execution_count": 19,
   "id": "28f4e8c8",
   "metadata": {},
   "outputs": [],
   "source": [
    "if True:\n",
    "    pass\n"
   ]
  },
  {
   "cell_type": "code",
   "execution_count": 20,
   "id": "f449d9d9",
   "metadata": {},
   "outputs": [],
   "source": [
    "if True:\n",
    "    pass # it will ber filled leater with code block\n",
    "\n",
    "else:\n",
    "    pass"
   ]
  },
  {
   "cell_type": "code",
   "execution_count": 22,
   "id": "3b1fef5f",
   "metadata": {},
   "outputs": [
    {
     "ename": "SyntaxError",
     "evalue": "invalid syntax (374371015.py, line 4)",
     "output_type": "error",
     "traceback": [
      "\u001b[1;36m  File \u001b[1;32m\"C:\\Users\\Asad\\AppData\\Local\\Temp\\ipykernel_11204\\374371015.py\"\u001b[1;36m, line \u001b[1;32m4\u001b[0m\n\u001b[1;33m    else:\u001b[0m\n\u001b[1;37m    ^\u001b[0m\n\u001b[1;31mSyntaxError\u001b[0m\u001b[1;31m:\u001b[0m invalid syntax\n"
     ]
    }
   ],
   "source": [
    "\n",
    "    "
   ]
  },
  {
   "cell_type": "code",
   "execution_count": null,
   "id": "56d541b3",
   "metadata": {},
   "outputs": [],
   "source": []
  }
 ],
 "metadata": {
  "kernelspec": {
   "display_name": "Python 3 (ipykernel)",
   "language": "python",
   "name": "python3"
  },
  "language_info": {
   "codemirror_mode": {
    "name": "ipython",
    "version": 3
   },
   "file_extension": ".py",
   "mimetype": "text/x-python",
   "name": "python",
   "nbconvert_exporter": "python",
   "pygments_lexer": "ipython3",
   "version": "3.9.16"
  }
 },
 "nbformat": 4,
 "nbformat_minor": 5
}
