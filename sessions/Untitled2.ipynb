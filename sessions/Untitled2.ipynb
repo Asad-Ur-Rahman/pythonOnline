{
 "cells": [
  {
   "cell_type": "code",
   "execution_count": 1,
   "id": "a3be4523",
   "metadata": {},
   "outputs": [
    {
     "data": {
      "text/plain": [
       "5.5"
      ]
     },
     "execution_count": 1,
     "metadata": {},
     "output_type": "execute_result"
    }
   ],
   "source": [
    "x = range(1,11)\n",
    "\n",
    "sum(x)/len(x)"
   ]
  },
  {
   "cell_type": "code",
   "execution_count": 2,
   "id": "52350223",
   "metadata": {},
   "outputs": [
    {
     "data": {
      "text/plain": [
       "5.5"
      ]
     },
     "execution_count": 2,
     "metadata": {},
     "output_type": "execute_result"
    }
   ],
   "source": [
    "sum =0\n",
    "count = 0\n",
    "\n",
    "for i in x:\n",
    "    sum = sum + i\n",
    "    count = count + 1\n",
    "    \n",
    "\n",
    "sum/count\n",
    "    "
   ]
  },
  {
   "cell_type": "code",
   "execution_count": 3,
   "id": "2c955e02",
   "metadata": {},
   "outputs": [
    {
     "name": "stdout",
     "output_type": "stream",
     "text": [
      "True\n",
      "7.7\n",
      "8\n",
      "(3, 5, 6)\n",
      "asad\n",
      "[1, 23, 4, 5, 6, 7, 8]\n"
     ]
    }
   ],
   "source": [
    "list1 = [True, 7.7,8,(3,5,6), \"asad\", [1,23,4,5,6,7,8]]\n",
    "\n",
    "for i in list1:\n",
    "    print(i)"
   ]
  },
  {
   "cell_type": "code",
   "execution_count": 4,
   "id": "8a56f5b4",
   "metadata": {},
   "outputs": [
    {
     "data": {
      "text/plain": [
       "[3, 2, 1]"
      ]
     },
     "execution_count": 4,
     "metadata": {},
     "output_type": "execute_result"
    }
   ],
   "source": [
    "l1 = [1,2,3]\n",
    "l2 = l1[::-1]\n",
    "\n",
    "l2"
   ]
  },
  {
   "cell_type": "code",
   "execution_count": 5,
   "id": "597c669f",
   "metadata": {},
   "outputs": [
    {
     "data": {
      "text/plain": [
       "[]"
      ]
     },
     "execution_count": 5,
     "metadata": {},
     "output_type": "execute_result"
    }
   ],
   "source": [
    "l1 = [1,2,3,4,5]\n",
    "l1[1:3:-1]\n",
    "# [3,2]"
   ]
  },
  {
   "cell_type": "code",
   "execution_count": 6,
   "id": "31dc9f3f",
   "metadata": {},
   "outputs": [
    {
     "data": {
      "text/plain": [
       "[1, 2, 3, 4, 5]"
      ]
     },
     "execution_count": 6,
     "metadata": {},
     "output_type": "execute_result"
    }
   ],
   "source": [
    "l1"
   ]
  },
  {
   "cell_type": "code",
   "execution_count": 8,
   "id": "742f6970",
   "metadata": {},
   "outputs": [
    {
     "data": {
      "text/plain": [
       "[]"
      ]
     },
     "execution_count": 8,
     "metadata": {},
     "output_type": "execute_result"
    }
   ],
   "source": [
    "l1[1:3:-1]"
   ]
  },
  {
   "cell_type": "code",
   "execution_count": 9,
   "id": "90c1b880",
   "metadata": {},
   "outputs": [
    {
     "data": {
      "text/plain": [
       "[4, 3]"
      ]
     },
     "execution_count": 9,
     "metadata": {},
     "output_type": "execute_result"
    }
   ],
   "source": [
    "l1[3:1:-1]"
   ]
  },
  {
   "cell_type": "code",
   "execution_count": 10,
   "id": "1cef1eea",
   "metadata": {},
   "outputs": [
    {
     "data": {
      "text/plain": [
       "range(11, 1, -1)"
      ]
     },
     "execution_count": 10,
     "metadata": {},
     "output_type": "execute_result"
    }
   ],
   "source": [
    "range(11, 1, -1)"
   ]
  },
  {
   "cell_type": "code",
   "execution_count": null,
   "id": "ad941057",
   "metadata": {},
   "outputs": [],
   "source": []
  }
 ],
 "metadata": {
  "kernelspec": {
   "display_name": "Python 3 (ipykernel)",
   "language": "python",
   "name": "python3"
  },
  "language_info": {
   "codemirror_mode": {
    "name": "ipython",
    "version": 3
   },
   "file_extension": ".py",
   "mimetype": "text/x-python",
   "name": "python",
   "nbconvert_exporter": "python",
   "pygments_lexer": "ipython3",
   "version": "3.9.16"
  }
 },
 "nbformat": 4,
 "nbformat_minor": 5
}
