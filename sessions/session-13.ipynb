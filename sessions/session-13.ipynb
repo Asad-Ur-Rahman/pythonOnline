{
 "cells": [
  {
   "cell_type": "code",
   "execution_count": null,
   "id": "cae18ff7",
   "metadata": {},
   "outputs": [],
   "source": []
  },
  {
   "cell_type": "code",
   "execution_count": 15,
   "id": "5afcd89a",
   "metadata": {},
   "outputs": [
    {
     "name": "stdout",
     "output_type": "stream",
     "text": [
      "low = 0 high =  25 guess =  12.5\n",
      "low = 0 high =  12.5 guess =  6.25\n",
      "low = 0 high =  6.25 guess =  3.125\n",
      "low = 3.125 high =  6.25 guess =  4.6875\n",
      "low = 4.6875 high =  6.25 guess =  5.46875\n",
      "low = 4.6875 high =  5.46875 guess =  5.078125\n",
      "low = 4.6875 high =  5.078125 guess =  4.8828125\n",
      "low = 4.8828125 high =  5.078125 guess =  4.98046875\n",
      "low = 4.98046875 high =  5.078125 guess =  5.029296875\n",
      "low = 4.98046875 high =  5.029296875 guess =  5.0048828125\n",
      "low = 4.98046875 high =  5.0048828125 guess =  4.99267578125\n",
      "low = 4.99267578125 high =  5.0048828125 guess =  4.998779296875\n",
      "low = 4.998779296875 high =  5.0048828125 guess =  5.0018310546875\n",
      "num_guesses = 13\n",
      "5.00030517578125 is close to the square root of 25\n"
     ]
    }
   ],
   "source": [
    "# %load bisection.py\n",
    "# x = int(input(\"Enter any integer to find square root: \"))\n",
    "x=25\n",
    "\n",
    "epsilon = 0.01\n",
    "num_guesses = 0\n",
    "low = 0\n",
    "high = max(1,x)\n",
    "\n",
    "guess = (high + low)/2.0\n",
    "\n",
    "while abs(guess**2 - x) >= epsilon:\n",
    "   \n",
    "   print('low =', low, 'high = ', high, 'guess = ', guess)\n",
    "\n",
    "   if guess**2 < x:\n",
    "       # look only in upper half search space\n",
    "       low = guess\n",
    "   else:\n",
    "       # look only in lower half search space\n",
    "       high = guess\n",
    "   # next guess is halfway in search space\n",
    "   guess = (high + low)/2.0\n",
    "   num_guesses += 1\n",
    "\n",
    "print('num_guesses =', num_guesses)\n",
    "print(guess, 'is close to the square root of', x)\n"
   ]
  },
  {
   "cell_type": "code",
   "execution_count": 10,
   "id": "38464839",
   "metadata": {},
   "outputs": [
    {
     "name": "stdout",
     "output_type": "stream",
     "text": [
      "Sum of square root of 25 and cube root of -8 is close to 3.00030517578125\n"
     ]
    }
   ],
   "source": [
    "# %load bisection.py\n",
    "# x = int(input(\"Enter any integer to find square root: \"))\n",
    "\n",
    "x1 = 25\n",
    "\n",
    "if x1 < 0:\n",
    "    \n",
    "    print(\"Does not exist\")\n",
    "\n",
    "else:\n",
    "    epsilon = 0.01\n",
    "    num_guesses = 0\n",
    "    low = 0\n",
    "    high = max(1,x1)\n",
    "\n",
    "\n",
    "    guess = (high + low)/2.0\n",
    "\n",
    "\n",
    "    while abs(guess**2 - x1) >= epsilon:\n",
    "        \n",
    "        #print('low =', low, 'high = ', high, 'guess = ', guess)\n",
    "        \n",
    "        if guess**2 < x1:\n",
    "            # look only in upper half search space\n",
    "            low = guess\n",
    "        else:\n",
    "           # look only in lower half search space\n",
    "            high = guess\n",
    "        # next guess is halfway in search space\n",
    "    \n",
    "        guess = (high + low)/2.0\n",
    "        #num_guesses += 1\n",
    "\n",
    "    #print('num_guesses =', num_guesses)\n",
    "    #print(guess, 'is close to the square root of', x)\n",
    "x1_root = guess\n",
    "\n",
    "# finding cube root\n",
    "\n",
    "x2 = -8\n",
    "\n",
    "if x2 < 0:\n",
    "    \n",
    "    is_pos = False\n",
    "    x2 = -x2\n",
    "\n",
    "else:\n",
    "    is_pos = True\n",
    "    \n",
    "epsilon = 0.01\n",
    "# num_guesses = 0\n",
    "low = 0\n",
    "high = max(1,x2)\n",
    "\n",
    "\n",
    "guess = (high + low)/2.0\n",
    "\n",
    "\n",
    "while abs(guess**3 - x2) >= epsilon:\n",
    "        \n",
    "    #print('low =', low, 'high = ', high, 'guess = ', guess)\n",
    "        \n",
    "    if guess**3 < x2:\n",
    "        # look only in upper half search space\n",
    "        low = guess\n",
    "    else:\n",
    "        # look only in lower half search space\n",
    "        high = guess\n",
    "    # next guess is halfway in search space\n",
    "    \n",
    "    guess = (high + low)/2.0\n",
    "    #num_guesses += 1\n",
    "\n",
    "    #print('num_guesses =', num_guesses)\n",
    "    #print(guess, 'is close to the square root of', x)\n",
    "\n",
    "if is_pos:\n",
    "    x2_root = guess\n",
    "else:\n",
    "    x2_root = -guess\n",
    "    x2 = -x2\n",
    "    \n",
    "print(\"Sum of square root of\", x1,\"and cube root of\", x2, 'is close to', x1_root + x2_root)"
   ]
  },
  {
   "cell_type": "code",
   "execution_count": null,
   "id": "94681470",
   "metadata": {},
   "outputs": [],
   "source": [
    "def name_of_function(paratmetrs):\n",
    "    boady"
   ]
  },
  {
   "cell_type": "code",
   "execution_count": 16,
   "id": "7a2b10a2",
   "metadata": {},
   "outputs": [],
   "source": [
    "def max_val(x,y):\n",
    "    if x > y:\n",
    "        return x\n",
    "    else:\n",
    "        return y"
   ]
  },
  {
   "cell_type": "code",
   "execution_count": 17,
   "id": "602db085",
   "metadata": {},
   "outputs": [
    {
     "data": {
      "text/plain": [
       "4"
      ]
     },
     "execution_count": 17,
     "metadata": {},
     "output_type": "execute_result"
    }
   ],
   "source": [
    "max_val(3,4)"
   ]
  },
  {
   "cell_type": "code",
   "execution_count": 18,
   "id": "99a8f492",
   "metadata": {},
   "outputs": [
    {
     "data": {
      "text/plain": [
       "12"
      ]
     },
     "execution_count": 18,
     "metadata": {},
     "output_type": "execute_result"
    }
   ],
   "source": [
    "max_val(3,4) * max_val(3,2)"
   ]
  },
  {
   "cell_type": "code",
   "execution_count": 20,
   "id": "54c349df",
   "metadata": {},
   "outputs": [
    {
     "ename": "TypeError",
     "evalue": "max_val() takes 2 positional arguments but 3 were given",
     "output_type": "error",
     "traceback": [
      "\u001b[1;31m---------------------------------------------------------------------------\u001b[0m",
      "\u001b[1;31mTypeError\u001b[0m                                 Traceback (most recent call last)",
      "\u001b[1;32m~\\AppData\\Local\\Temp\\ipykernel_6228\\1496033340.py\u001b[0m in \u001b[0;36m<module>\u001b[1;34m\u001b[0m\n\u001b[1;32m----> 1\u001b[1;33m \u001b[0mmax_val\u001b[0m\u001b[1;33m(\u001b[0m\u001b[1;36m3\u001b[0m\u001b[1;33m,\u001b[0m\u001b[1;36m4\u001b[0m\u001b[1;33m,\u001b[0m\u001b[1;36m3\u001b[0m\u001b[1;33m)\u001b[0m\u001b[1;33m\u001b[0m\u001b[1;33m\u001b[0m\u001b[0m\n\u001b[0m",
      "\u001b[1;31mTypeError\u001b[0m: max_val() takes 2 positional arguments but 3 were given"
     ]
    }
   ],
   "source": [
    "max_val(3,4,3)"
   ]
  },
  {
   "cell_type": "code",
   "execution_count": 21,
   "id": "03911fbb",
   "metadata": {},
   "outputs": [
    {
     "data": {
      "text/plain": [
       "6"
      ]
     },
     "execution_count": 21,
     "metadata": {},
     "output_type": "execute_result"
    }
   ],
   "source": [
    "max(1,2,3,4,5,6)"
   ]
  },
  {
   "cell_type": "code",
   "execution_count": 13,
   "id": "800099ba",
   "metadata": {},
   "outputs": [],
   "source": [
    "def find_root(x, power, epsilon):\n",
    "    \n",
    "    if x1 < 0 and power%2==0:\n",
    "        return None\n",
    "    \n",
    "    low = min(-1, x)\n",
    "    high = max(1,x)\n",
    "\n",
    "\n",
    "    guess = (high + low)/2.0\n",
    "\n",
    "\n",
    "    while abs(guess**power - x) >= epsilon:\n",
    "        \n",
    "        if guess**power < x:\n",
    "            \n",
    "            low = guess\n",
    "        else:\n",
    "\n",
    "            high = guess\n",
    "    \n",
    "        guess = (high + low)/2.0\n",
    "    \n",
    "    return guess"
   ]
  },
  {
   "cell_type": "code",
   "execution_count": 22,
   "id": "340d8fdc",
   "metadata": {},
   "outputs": [],
   "source": [
    "def print_name( firstName, secondname, reverse):\n",
    "    if reverse:\n",
    "        print(secondname, firstName)\n",
    "    else:\n",
    "        print(firstName, secondname)"
   ]
  },
  {
   "cell_type": "code",
   "execution_count": 23,
   "id": "c06cd8e9",
   "metadata": {},
   "outputs": [
    {
     "name": "stdout",
     "output_type": "stream",
     "text": [
      "Asad Rahman\n"
     ]
    }
   ],
   "source": [
    "print_name('Asad', \"Rahman\", False)"
   ]
  },
  {
   "cell_type": "code",
   "execution_count": 24,
   "id": "6273f173",
   "metadata": {},
   "outputs": [
    {
     "ename": "TypeError",
     "evalue": "print_name() missing 1 required positional argument: 'reverse'",
     "output_type": "error",
     "traceback": [
      "\u001b[1;31m---------------------------------------------------------------------------\u001b[0m",
      "\u001b[1;31mTypeError\u001b[0m                                 Traceback (most recent call last)",
      "\u001b[1;32m~\\AppData\\Local\\Temp\\ipykernel_6228\\993258199.py\u001b[0m in \u001b[0;36m<module>\u001b[1;34m\u001b[0m\n\u001b[1;32m----> 1\u001b[1;33m \u001b[0mprint_name\u001b[0m\u001b[1;33m(\u001b[0m\u001b[1;34m'Asad'\u001b[0m\u001b[1;33m,\u001b[0m \u001b[1;34m\"Rahman\"\u001b[0m\u001b[1;33m)\u001b[0m\u001b[1;33m\u001b[0m\u001b[1;33m\u001b[0m\u001b[0m\n\u001b[0m",
      "\u001b[1;31mTypeError\u001b[0m: print_name() missing 1 required positional argument: 'reverse'"
     ]
    }
   ],
   "source": [
    "print_name('Asad', \"Rahman\")"
   ]
  },
  {
   "cell_type": "code",
   "execution_count": 28,
   "id": "c386a92a",
   "metadata": {},
   "outputs": [
    {
     "name": "stdout",
     "output_type": "stream",
     "text": [
      "Rahman Asad\n"
     ]
    }
   ],
   "source": [
    "print_name(\"Rahman\",'Asad',  reverse=False)"
   ]
  },
  {
   "cell_type": "code",
   "execution_count": 27,
   "id": "23f34795",
   "metadata": {},
   "outputs": [
    {
     "name": "stdout",
     "output_type": "stream",
     "text": [
      "Rahman Asad\n"
     ]
    }
   ],
   "source": [
    "print_name(reverse=False,secondname='Asad', firstName = \"Rahman\")"
   ]
  },
  {
   "cell_type": "code",
   "execution_count": 30,
   "id": "b9fd46db",
   "metadata": {},
   "outputs": [
    {
     "name": "stdout",
     "output_type": "stream",
     "text": [
      "asad rahaman\n"
     ]
    }
   ],
   "source": [
    "print_name(\"asad\",\"rahaman\",\"\")"
   ]
  },
  {
   "cell_type": "code",
   "execution_count": 31,
   "id": "97e80ce4",
   "metadata": {},
   "outputs": [],
   "source": [
    "def print_name( firstName, secondname, reverse=False):\n",
    "    if reverse:\n",
    "        print(secondname, firstName)\n",
    "    else:\n",
    "        print(firstName, secondname)"
   ]
  },
  {
   "cell_type": "code",
   "execution_count": 32,
   "id": "a4840daa",
   "metadata": {},
   "outputs": [
    {
     "name": "stdout",
     "output_type": "stream",
     "text": [
      "asad rahman\n"
     ]
    }
   ],
   "source": [
    "print_name(\"asad\", \"rahman\")"
   ]
  },
  {
   "cell_type": "code",
   "execution_count": 33,
   "id": "971be4ab",
   "metadata": {},
   "outputs": [
    {
     "name": "stdout",
     "output_type": "stream",
     "text": [
      "rahman asad\n"
     ]
    }
   ],
   "source": [
    "print_name(\"asad\", \"rahman\", True)"
   ]
  },
  {
   "cell_type": "code",
   "execution_count": 34,
   "id": "0d0d0d23",
   "metadata": {},
   "outputs": [
    {
     "name": "stdout",
     "output_type": "stream",
     "text": [
      "rahman asad\n"
     ]
    }
   ],
   "source": [
    "print_name(\"asad\", \"rahman\", reverse=True)"
   ]
  },
  {
   "cell_type": "code",
   "execution_count": null,
   "id": "007f4aa0",
   "metadata": {},
   "outputs": [],
   "source": [
    "min(6,4)\n",
    "min(6,78,3,2)"
   ]
  },
  {
   "cell_type": "code",
   "execution_count": 35,
   "id": "1a37b8f1",
   "metadata": {},
   "outputs": [],
   "source": [
    "def mean(*arg): #list\n",
    "    total = 0\n",
    "    for a in arg:\n",
    "        total = total + a\n",
    "    return total/ len(arg)"
   ]
  },
  {
   "cell_type": "code",
   "execution_count": 36,
   "id": "df06cc9a",
   "metadata": {},
   "outputs": [
    {
     "data": {
      "text/plain": [
       "3.0"
      ]
     },
     "execution_count": 36,
     "metadata": {},
     "output_type": "execute_result"
    }
   ],
   "source": [
    "mean(1,2,3,4,5)"
   ]
  },
  {
   "cell_type": "code",
   "execution_count": 38,
   "id": "cf841fb5",
   "metadata": {},
   "outputs": [
    {
     "data": {
      "text/plain": [
       "22.0"
      ]
     },
     "execution_count": 38,
     "metadata": {},
     "output_type": "execute_result"
    }
   ],
   "source": [
    "mean(22)"
   ]
  },
  {
   "cell_type": "code",
   "execution_count": 39,
   "id": "c5801cd5",
   "metadata": {},
   "outputs": [
    {
     "data": {
      "text/plain": [
       "2.0"
      ]
     },
     "execution_count": 39,
     "metadata": {},
     "output_type": "execute_result"
    }
   ],
   "source": [
    "mean(2,2)"
   ]
  },
  {
   "cell_type": "code",
   "execution_count": null,
   "id": "2d2c0c10",
   "metadata": {},
   "outputs": [],
   "source": [
    "def printName(first,last,*name,middel, greeting):\n",
    "    "
   ]
  },
  {
   "cell_type": "code",
   "execution_count": 41,
   "id": "1713e445",
   "metadata": {},
   "outputs": [
    {
     "name": "stdout",
     "output_type": "stream",
     "text": [
      "x =  4\n",
      "z =  4\n",
      "x =  3\n",
      "y = 2\n"
     ]
    }
   ],
   "source": [
    "def f(x):\n",
    "    y =1\n",
    "    x = x + y\n",
    "    \n",
    "    print('x = ', x)\n",
    "    \n",
    "    return x\n",
    "\n",
    "x =3\n",
    "y =2\n",
    "z = f(x)\n",
    "\n",
    "print('z = ',z)\n",
    "print('x = ',x)\n",
    "print('y =',y)"
   ]
  },
  {
   "cell_type": "code",
   "execution_count": null,
   "id": "a6cb2c83",
   "metadata": {},
   "outputs": [],
   "source": [
    "# %load scope.py\n",
    "def f(x):\n",
    "\n",
    "    def g():\n",
    "        x = 'abc'\n",
    "        print('x =', x)\n",
    "    \n",
    "    def h():\n",
    "\n",
    "        z = x\n",
    "\n",
    "        print('z =', z)\n",
    "    \n",
    "\n",
    "    x = x + 1\n",
    "\n",
    "    print('x =', x)\n",
    "\n",
    "    h()\n",
    "    g()\n",
    "    \n",
    "    print('x =', x)\n",
    "    \n",
    "    return g\n",
    "\n",
    "x = 3\n",
    "z = f(x)\n",
    "\n",
    "print('x =',x)\n",
    "print('z =',z)\n",
    "\n",
    "z()"
   ]
  },
  {
   "cell_type": "code",
   "execution_count": null,
   "id": "9fc43a57",
   "metadata": {},
   "outputs": [],
   "source": []
  }
 ],
 "metadata": {
  "kernelspec": {
   "display_name": "Python 3 (ipykernel)",
   "language": "python",
   "name": "python3"
  },
  "language_info": {
   "codemirror_mode": {
    "name": "ipython",
    "version": 3
   },
   "file_extension": ".py",
   "mimetype": "text/x-python",
   "name": "python",
   "nbconvert_exporter": "python",
   "pygments_lexer": "ipython3",
   "version": "3.9.16"
  }
 },
 "nbformat": 4,
 "nbformat_minor": 5
}
