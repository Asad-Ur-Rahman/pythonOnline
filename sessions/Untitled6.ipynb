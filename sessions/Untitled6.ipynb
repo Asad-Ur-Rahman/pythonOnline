{
 "cells": [
  {
   "cell_type": "code",
   "execution_count": 1,
   "id": "64a9eaf9",
   "metadata": {},
   "outputs": [
    {
     "ename": "TypeError",
     "evalue": "enumerate() missing required argument 'iterable' (pos 1)",
     "output_type": "error",
     "traceback": [
      "\u001b[1;31m---------------------------------------------------------------------------\u001b[0m",
      "\u001b[1;31mTypeError\u001b[0m                                 Traceback (most recent call last)",
      "\u001b[1;32m~\\AppData\\Local\\Temp\\ipykernel_3140\\2573549912.py\u001b[0m in \u001b[0;36m<module>\u001b[1;34m\u001b[0m\n\u001b[1;32m----> 1\u001b[1;33m \u001b[0menumerate\u001b[0m\u001b[1;33m(\u001b[0m\u001b[1;33m)\u001b[0m\u001b[1;33m\u001b[0m\u001b[1;33m\u001b[0m\u001b[0m\n\u001b[0m",
      "\u001b[1;31mTypeError\u001b[0m: enumerate() missing required argument 'iterable' (pos 1)"
     ]
    }
   ],
   "source": [
    "enumerate()"
   ]
  },
  {
   "cell_type": "code",
   "execution_count": 2,
   "id": "901e8663",
   "metadata": {},
   "outputs": [
    {
     "data": {
      "text/plain": [
       "[1, 2, 3, 4, 5]"
      ]
     },
     "execution_count": 2,
     "metadata": {},
     "output_type": "execute_result"
    }
   ],
   "source": [
    "test = [1,2,3,4,5]\n",
    "test"
   ]
  },
  {
   "cell_type": "code",
   "execution_count": 3,
   "id": "a55777d7",
   "metadata": {},
   "outputs": [
    {
     "data": {
      "text/plain": [
       "<enumerate at 0x20d5d38a3c0>"
      ]
     },
     "execution_count": 3,
     "metadata": {},
     "output_type": "execute_result"
    }
   ],
   "source": [
    "enumerate(test)"
   ]
  },
  {
   "cell_type": "code",
   "execution_count": 4,
   "id": "0847424d",
   "metadata": {},
   "outputs": [
    {
     "data": {
      "text/plain": [
       "[(0, 1), (1, 2), (2, 3), (3, 4), (4, 5)]"
      ]
     },
     "execution_count": 4,
     "metadata": {},
     "output_type": "execute_result"
    }
   ],
   "source": [
    "list(enumerate(test))"
   ]
  },
  {
   "cell_type": "code",
   "execution_count": 5,
   "id": "f9315a16",
   "metadata": {},
   "outputs": [
    {
     "name": "stdout",
     "output_type": "stream",
     "text": [
      "1 is at index number 0 of list.\n",
      "2 is at index number 1 of list.\n",
      "3 is at index number 2 of list.\n",
      "4 is at index number 3 of list.\n",
      "5 is at index number 4 of list.\n"
     ]
    }
   ],
   "source": [
    "for index, ele in enumerate(test):\n",
    "    print(f\"{ele} is at index number {index} of list.\")"
   ]
  },
  {
   "cell_type": "code",
   "execution_count": 6,
   "id": "6696a1eb",
   "metadata": {},
   "outputs": [
    {
     "ename": "NameError",
     "evalue": "name 'strng' is not defined",
     "output_type": "error",
     "traceback": [
      "\u001b[1;31m---------------------------------------------------------------------------\u001b[0m",
      "\u001b[1;31mNameError\u001b[0m                                 Traceback (most recent call last)",
      "\u001b[1;32m~\\AppData\\Local\\Temp\\ipykernel_3140\\782120015.py\u001b[0m in \u001b[0;36m<module>\u001b[1;34m\u001b[0m\n\u001b[1;32m----> 1\u001b[1;33m \u001b[0mstrng\u001b[0m\u001b[1;33m\u001b[0m\u001b[1;33m\u001b[0m\u001b[0m\n\u001b[0m",
      "\u001b[1;31mNameError\u001b[0m: name 'strng' is not defined"
     ]
    }
   ],
   "source": [
    "strng"
   ]
  },
  {
   "cell_type": "code",
   "execution_count": 7,
   "id": "1b4d2ca4",
   "metadata": {},
   "outputs": [
    {
     "ename": "NameError",
     "evalue": "name 'strng' is not defined",
     "output_type": "error",
     "traceback": [
      "\u001b[1;31m---------------------------------------------------------------------------\u001b[0m",
      "\u001b[1;31mNameError\u001b[0m                                 Traceback (most recent call last)",
      "\u001b[1;32m~\\AppData\\Local\\Temp\\ipykernel_3140\\4200632571.py\u001b[0m in \u001b[0;36m<module>\u001b[1;34m\u001b[0m\n\u001b[1;32m----> 1\u001b[1;33m \u001b[0mlist\u001b[0m\u001b[1;33m(\u001b[0m\u001b[0menumerate\u001b[0m\u001b[1;33m(\u001b[0m\u001b[0mstrng\u001b[0m\u001b[1;33m)\u001b[0m\u001b[1;33m)\u001b[0m\u001b[1;33m[\u001b[0m\u001b[1;36m10\u001b[0m\u001b[1;33m]\u001b[0m\u001b[1;33m[\u001b[0m\u001b[1;36m1\u001b[0m\u001b[1;33m]\u001b[0m\u001b[1;33m\u001b[0m\u001b[1;33m\u001b[0m\u001b[0m\n\u001b[0m",
      "\u001b[1;31mNameError\u001b[0m: name 'strng' is not defined"
     ]
    }
   ],
   "source": [
    "list(enumerate(strng))[10][1]"
   ]
  },
  {
   "cell_type": "code",
   "execution_count": 8,
   "id": "cf9a2c22",
   "metadata": {},
   "outputs": [],
   "source": [
    "cars = {\n",
    "    \"toyota\": \"Revo\",\n",
    "    \"Kia\": \"Rio\",\n",
    "    \"Honda\": \"CRH\"\n",
    "       }"
   ]
  },
  {
   "cell_type": "code",
   "execution_count": 9,
   "id": "87fca3de",
   "metadata": {},
   "outputs": [
    {
     "data": {
      "text/plain": [
       "<enumerate at 0x20d5d3f9b00>"
      ]
     },
     "execution_count": 9,
     "metadata": {},
     "output_type": "execute_result"
    }
   ],
   "source": [
    "enumerate(cars)"
   ]
  },
  {
   "cell_type": "code",
   "execution_count": 10,
   "id": "8bffa4f2",
   "metadata": {},
   "outputs": [
    {
     "data": {
      "text/plain": [
       "[(0, ('toyota', 'Revo')), (1, ('Kia', 'Rio')), (2, ('Honda', 'CRH'))]"
      ]
     },
     "execution_count": 10,
     "metadata": {},
     "output_type": "execute_result"
    }
   ],
   "source": [
    "list(enumerate(cars.items()))"
   ]
  },
  {
   "cell_type": "code",
   "execution_count": 11,
   "id": "e66dbb7b",
   "metadata": {},
   "outputs": [
    {
     "data": {
      "text/plain": [
       "((0, ('toyota', 'Revo')), (1, ('Kia', 'Rio')), (2, ('Honda', 'CRH')))"
      ]
     },
     "execution_count": 11,
     "metadata": {},
     "output_type": "execute_result"
    }
   ],
   "source": [
    "tuple(enumerate(cars.items()))"
   ]
  },
  {
   "cell_type": "code",
   "execution_count": 12,
   "id": "b131e7ad",
   "metadata": {},
   "outputs": [
    {
     "data": {
      "text/plain": [
       "(0, ('toyota', 'Revo'))"
      ]
     },
     "execution_count": 12,
     "metadata": {},
     "output_type": "execute_result"
    }
   ],
   "source": [
    "tuple(enumerate(cars.items()))[0]"
   ]
  },
  {
   "cell_type": "code",
   "execution_count": 13,
   "id": "1cb37b6b",
   "metadata": {},
   "outputs": [
    {
     "data": {
      "text/plain": [
       "('toyota', 'Revo')"
      ]
     },
     "execution_count": 13,
     "metadata": {},
     "output_type": "execute_result"
    }
   ],
   "source": [
    "tuple(enumerate(cars.items()))[0][1]"
   ]
  },
  {
   "cell_type": "code",
   "execution_count": 14,
   "id": "02c55e5e",
   "metadata": {},
   "outputs": [
    {
     "data": {
      "text/plain": [
       "'toyota'"
      ]
     },
     "execution_count": 14,
     "metadata": {},
     "output_type": "execute_result"
    }
   ],
   "source": [
    "tuple(enumerate(cars.items()))[0][1][0]"
   ]
  },
  {
   "cell_type": "code",
   "execution_count": 15,
   "id": "23d6ecad",
   "metadata": {},
   "outputs": [
    {
     "data": {
      "text/plain": [
       "[' ', 'd', 'e', 'h', 'l', 'l', 'l', 'o', 'o', 'r', 'w', 'w']"
      ]
     },
     "execution_count": 15,
     "metadata": {},
     "output_type": "execute_result"
    }
   ],
   "source": [
    "sorted(\"hellow world\") # ascii"
   ]
  },
  {
   "cell_type": "code",
   "execution_count": 16,
   "id": "6f5c05be",
   "metadata": {},
   "outputs": [
    {
     "data": {
      "text/plain": [
       "100"
      ]
     },
     "execution_count": 16,
     "metadata": {},
     "output_type": "execute_result"
    }
   ],
   "source": [
    "ord('d') # ascii reprsentation"
   ]
  },
  {
   "cell_type": "code",
   "execution_count": 17,
   "id": "f8eee05a",
   "metadata": {},
   "outputs": [
    {
     "data": {
      "text/plain": [
       "[1, 2, 3, 62, 975]"
      ]
     },
     "execution_count": 17,
     "metadata": {},
     "output_type": "execute_result"
    }
   ],
   "source": [
    "sorted([1,2,3,62,975,])"
   ]
  },
  {
   "cell_type": "code",
   "execution_count": 18,
   "id": "dfd1ab2f",
   "metadata": {},
   "outputs": [],
   "source": [
    "brand = [\"benelli\", 'yamaha', 'kawasaki']\n",
    "models = ['TNT 899', \"MT-10\", \"ZX10R\"]"
   ]
  },
  {
   "cell_type": "code",
   "execution_count": 19,
   "id": "21accf57",
   "metadata": {},
   "outputs": [
    {
     "data": {
      "text/plain": [
       "<zip at 0x20d5d3fe8c0>"
      ]
     },
     "execution_count": 19,
     "metadata": {},
     "output_type": "execute_result"
    }
   ],
   "source": [
    "zipped = zip(brand, models)\n",
    "\n",
    "zipped"
   ]
  },
  {
   "cell_type": "code",
   "execution_count": 20,
   "id": "709f6fcd",
   "metadata": {},
   "outputs": [
    {
     "data": {
      "text/plain": [
       "[('benelli', 'TNT 899'), ('yamaha', 'MT-10'), ('kawasaki', 'ZX10R')]"
      ]
     },
     "execution_count": 20,
     "metadata": {},
     "output_type": "execute_result"
    }
   ],
   "source": [
    "list(zipped)"
   ]
  },
  {
   "cell_type": "code",
   "execution_count": 21,
   "id": "2de4ccd6",
   "metadata": {},
   "outputs": [],
   "source": [
    "year = [2019, 2023]"
   ]
  },
  {
   "cell_type": "code",
   "execution_count": 22,
   "id": "693967d9",
   "metadata": {},
   "outputs": [
    {
     "data": {
      "text/plain": [
       "[('benelli', 'TNT 899', 2019), ('yamaha', 'MT-10', 2023)]"
      ]
     },
     "execution_count": 22,
     "metadata": {},
     "output_type": "execute_result"
    }
   ],
   "source": [
    "list(zip(brand,models,year))"
   ]
  },
  {
   "cell_type": "code",
   "execution_count": 25,
   "id": "69fcc0e8",
   "metadata": {},
   "outputs": [
    {
     "ename": "NameError",
     "evalue": "name 'b' is not defined",
     "output_type": "error",
     "traceback": [
      "\u001b[1;31m---------------------------------------------------------------------------\u001b[0m",
      "\u001b[1;31mNameError\u001b[0m                                 Traceback (most recent call last)",
      "\u001b[1;32m~\\AppData\\Local\\Temp\\ipykernel_3140\\3026152503.py\u001b[0m in \u001b[0;36m<module>\u001b[1;34m\u001b[0m\n\u001b[0;32m      1\u001b[0m \u001b[1;32mfor\u001b[0m \u001b[0mindex\u001b[0m\u001b[1;33m,\u001b[0m \u001b[0ma\u001b[0m \u001b[1;32min\u001b[0m \u001b[0menumerate\u001b[0m\u001b[1;33m(\u001b[0m\u001b[0mzip\u001b[0m\u001b[1;33m(\u001b[0m\u001b[0mbrand\u001b[0m\u001b[1;33m,\u001b[0m\u001b[0mmodels\u001b[0m\u001b[1;33m,\u001b[0m\u001b[0myear\u001b[0m\u001b[1;33m)\u001b[0m\u001b[1;33m)\u001b[0m\u001b[1;33m:\u001b[0m\u001b[1;33m\u001b[0m\u001b[1;33m\u001b[0m\u001b[0m\n\u001b[1;32m----> 2\u001b[1;33m     \u001b[0mprint\u001b[0m\u001b[1;33m(\u001b[0m\u001b[1;34mf\"{index}: {a} {b} {c}\"\u001b[0m\u001b[1;33m)\u001b[0m\u001b[1;33m\u001b[0m\u001b[1;33m\u001b[0m\u001b[0m\n\u001b[0m",
      "\u001b[1;31mNameError\u001b[0m: name 'b' is not defined"
     ]
    }
   ],
   "source": [
    "for index, a in enumerate(zip(brand,models,year)):\n",
    "    print(f\"{index}: {a} {b} {c}\")"
   ]
  },
  {
   "cell_type": "code",
   "execution_count": 26,
   "id": "563c1006",
   "metadata": {},
   "outputs": [
    {
     "data": {
      "text/plain": [
       "['g', 'f', 'e', 'd', 'c', 'b', 'a']"
      ]
     },
     "execution_count": 26,
     "metadata": {},
     "output_type": "execute_result"
    }
   ],
   "source": [
    "list(reversed(\"abcdefg\"))"
   ]
  },
  {
   "cell_type": "code",
   "execution_count": 27,
   "id": "9c43bea0",
   "metadata": {},
   "outputs": [
    {
     "data": {
      "text/plain": [
       "[0, 2, 4, 6, 8, 10, 12, 14, 16, 18]"
      ]
     },
     "execution_count": 27,
     "metadata": {},
     "output_type": "execute_result"
    }
   ],
   "source": [
    "[x for x in range(20) if x%2 ==0]"
   ]
  },
  {
   "cell_type": "code",
   "execution_count": 28,
   "id": "2415f043",
   "metadata": {},
   "outputs": [],
   "source": [
    "def test(*x):\n",
    "    print(x)\n",
    "    print(type(x))"
   ]
  },
  {
   "cell_type": "code",
   "execution_count": 29,
   "id": "9cc03478",
   "metadata": {},
   "outputs": [
    {
     "name": "stdout",
     "output_type": "stream",
     "text": [
      "(9,)\n",
      "<class 'tuple'>\n"
     ]
    }
   ],
   "source": [
    "test(9)"
   ]
  },
  {
   "cell_type": "code",
   "execution_count": 30,
   "id": "4c6b48b3",
   "metadata": {},
   "outputs": [
    {
     "name": "stdout",
     "output_type": "stream",
     "text": [
      "(9, 3, 4, 5, 6, 7, 8, 43, 3, 2, 3, 445)\n",
      "<class 'tuple'>\n"
     ]
    }
   ],
   "source": [
    "test(9,3,4,5,6,7,8,43,3,2,3,445)"
   ]
  },
  {
   "cell_type": "code",
   "execution_count": 31,
   "id": "02e8d1cf",
   "metadata": {},
   "outputs": [],
   "source": [
    "test?"
   ]
  },
  {
   "cell_type": "code",
   "execution_count": 41,
   "id": "611f66f9",
   "metadata": {},
   "outputs": [],
   "source": [
    "def test1(**key):\n",
    "    print(key)\n",
    "    print(type(key))\n",
    "    for i,j in key.items():\n",
    "        print(f\"{i} = {j}\")\n",
    "    key[\"a\"] += 1 \n",
    "    \n",
    "    print(key['a'])"
   ]
  },
  {
   "cell_type": "code",
   "execution_count": 33,
   "id": "b719a9a1",
   "metadata": {},
   "outputs": [],
   "source": [
    "test1?"
   ]
  },
  {
   "cell_type": "code",
   "execution_count": 34,
   "id": "d414426f",
   "metadata": {},
   "outputs": [
    {
     "ename": "TypeError",
     "evalue": "test1() takes 0 positional arguments but 1 was given",
     "output_type": "error",
     "traceback": [
      "\u001b[1;31m---------------------------------------------------------------------------\u001b[0m",
      "\u001b[1;31mTypeError\u001b[0m                                 Traceback (most recent call last)",
      "\u001b[1;32m~\\AppData\\Local\\Temp\\ipykernel_3140\\489437878.py\u001b[0m in \u001b[0;36m<module>\u001b[1;34m\u001b[0m\n\u001b[1;32m----> 1\u001b[1;33m \u001b[0mtest1\u001b[0m\u001b[1;33m(\u001b[0m\u001b[1;36m7\u001b[0m\u001b[1;33m)\u001b[0m\u001b[1;33m\u001b[0m\u001b[1;33m\u001b[0m\u001b[0m\n\u001b[0m",
      "\u001b[1;31mTypeError\u001b[0m: test1() takes 0 positional arguments but 1 was given"
     ]
    }
   ],
   "source": [
    "test1(7)"
   ]
  },
  {
   "cell_type": "code",
   "execution_count": 35,
   "id": "4a8c3a77",
   "metadata": {},
   "outputs": [
    {
     "name": "stdout",
     "output_type": "stream",
     "text": [
      "{'a': 5, 'test': True, 'z': 'Hello'}\n",
      "<class 'dict'>\n"
     ]
    }
   ],
   "source": [
    "test1(a=5, test = True, z = \"Hello\")"
   ]
  },
  {
   "cell_type": "code",
   "execution_count": 39,
   "id": "c46254a7",
   "metadata": {},
   "outputs": [
    {
     "name": "stdout",
     "output_type": "stream",
     "text": [
      "{'a': 5, 'test': True, 'z': 'Hello'}\n",
      "<class 'dict'>\n",
      "a = 5\n",
      "test = True\n",
      "z = Hello\n"
     ]
    }
   ],
   "source": [
    "test1(a=5, test = True, z = \"Hello\")"
   ]
  },
  {
   "cell_type": "code",
   "execution_count": 42,
   "id": "3a3b6049",
   "metadata": {},
   "outputs": [
    {
     "name": "stdout",
     "output_type": "stream",
     "text": [
      "{'a': 5, 'test': True, 'z': 'Hello'}\n",
      "<class 'dict'>\n",
      "a = 5\n",
      "test = True\n",
      "z = Hello\n",
      "6\n"
     ]
    }
   ],
   "source": [
    "test1(a=5, test = True, z = \"Hello\")"
   ]
  },
  {
   "cell_type": "code",
   "execution_count": 47,
   "id": "6ab7b96d",
   "metadata": {},
   "outputs": [],
   "source": [
    "import greetings"
   ]
  },
  {
   "cell_type": "code",
   "execution_count": 45,
   "id": "18b51623",
   "metadata": {},
   "outputs": [],
   "source": [
    "greetings.*?"
   ]
  },
  {
   "cell_type": "code",
   "execution_count": 48,
   "id": "2dfbd45b",
   "metadata": {},
   "outputs": [
    {
     "name": "stdout",
     "output_type": "stream",
     "text": [
      "Hello, Alan from module\n"
     ]
    }
   ],
   "source": [
    "greetings.greeting(\"Alan\")"
   ]
  },
  {
   "cell_type": "code",
   "execution_count": 49,
   "id": "84e75b75",
   "metadata": {},
   "outputs": [
    {
     "ename": "AttributeError",
     "evalue": "module 'greetings' has no attribute 'person'",
     "output_type": "error",
     "traceback": [
      "\u001b[1;31m---------------------------------------------------------------------------\u001b[0m",
      "\u001b[1;31mAttributeError\u001b[0m                            Traceback (most recent call last)",
      "\u001b[1;32m~\\AppData\\Local\\Temp\\ipykernel_3140\\4100337908.py\u001b[0m in \u001b[0;36m<module>\u001b[1;34m\u001b[0m\n\u001b[1;32m----> 1\u001b[1;33m \u001b[0mgreetings\u001b[0m\u001b[1;33m.\u001b[0m\u001b[0mperson\u001b[0m\u001b[1;33m\u001b[0m\u001b[1;33m\u001b[0m\u001b[0m\n\u001b[0m",
      "\u001b[1;31mAttributeError\u001b[0m: module 'greetings' has no attribute 'person'"
     ]
    }
   ],
   "source": [
    "greetings.person"
   ]
  },
  {
   "cell_type": "code",
   "execution_count": 50,
   "id": "d27218c9",
   "metadata": {},
   "outputs": [],
   "source": [
    "enumerate?"
   ]
  },
  {
   "cell_type": "code",
   "execution_count": null,
   "id": "424cc59c",
   "metadata": {},
   "outputs": [],
   "source": []
  }
 ],
 "metadata": {
  "kernelspec": {
   "display_name": "Python 3 (ipykernel)",
   "language": "python",
   "name": "python3"
  },
  "language_info": {
   "codemirror_mode": {
    "name": "ipython",
    "version": 3
   },
   "file_extension": ".py",
   "mimetype": "text/x-python",
   "name": "python",
   "nbconvert_exporter": "python",
   "pygments_lexer": "ipython3",
   "version": "3.9.16"
  }
 },
 "nbformat": 4,
 "nbformat_minor": 5
}
