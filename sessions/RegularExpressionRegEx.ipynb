{
 "cells": [
  {
   "cell_type": "code",
   "execution_count": 2,
   "id": "7043da67",
   "metadata": {},
   "outputs": [
    {
     "name": "stdout",
     "output_type": "stream",
     "text": [
      "abs is not matched\n",
      "alias is matched\n",
      "Alias is not matched\n",
      "An Aliaas is not matched\n"
     ]
    }
   ],
   "source": [
    "import re\n",
    "\n",
    "pattern = '^a...s$'\n",
    "matches = ['abs', 'alias', 'Alias','An Aliaas']\n",
    "\n",
    "for i in matches:\n",
    "    result = re.match(pattern,i)\n",
    "    \n",
    "    if result:\n",
    "        print(f\"{i} is matched\")\n",
    "    else:\n",
    "        print(f\"{i} is not matched\")"
   ]
  },
  {
   "cell_type": "code",
   "execution_count": 3,
   "id": "9ee3196d",
   "metadata": {},
   "outputs": [],
   "source": [
    "pattern = \"he.*o\""
   ]
  },
  {
   "cell_type": "code",
   "execution_count": 6,
   "id": "a9ef8b10",
   "metadata": {},
   "outputs": [],
   "source": [
    "match = ['heo', 'hellllllo', 'helo', 'hell', \"olleh\", 'helloh']"
   ]
  },
  {
   "cell_type": "code",
   "execution_count": 7,
   "id": "01fcc8d9",
   "metadata": {},
   "outputs": [
    {
     "name": "stdout",
     "output_type": "stream",
     "text": [
      "heo is matched\n",
      "hellllllo is matched\n",
      "helo is matched\n",
      "hell is not matched\n",
      "olleh is not matched\n",
      "helloh is matched\n"
     ]
    }
   ],
   "source": [
    "for i in match:\n",
    "    result = re.match(pattern,i)\n",
    "    \n",
    "    if result:\n",
    "        print(f\"{i} is matched\")\n",
    "    else:\n",
    "        print(f\"{i} is not matched\")"
   ]
  },
  {
   "cell_type": "code",
   "execution_count": 8,
   "id": "c9b2cf57",
   "metadata": {},
   "outputs": [
    {
     "name": "stdout",
     "output_type": "stream",
     "text": [
      "heo is not matched\n",
      "hellllllo is matched\n",
      "helo is matched\n",
      "hell is not matched\n",
      "olleh is not matched\n",
      "helloh is matched\n"
     ]
    }
   ],
   "source": [
    "pattern = \"he.+o\"\n",
    "match = ['heo', 'hellllllo', 'helo', 'hell', \"olleh\", 'helloh']\n",
    "\n",
    "for i in match:\n",
    "    result = re.match(pattern,i)\n",
    "    \n",
    "    if result:\n",
    "        print(f\"{i} is matched\")\n",
    "    else:\n",
    "        print(f\"{i} is not matched\")"
   ]
  },
  {
   "cell_type": "code",
   "execution_count": 9,
   "id": "175b5087",
   "metadata": {},
   "outputs": [
    {
     "name": "stdout",
     "output_type": "stream",
     "text": [
      "heo is matched\n",
      "hellllllo is not matched\n",
      "helo is matched\n",
      "hell is not matched\n",
      "olleh is not matched\n",
      "helloh is not matched\n"
     ]
    }
   ],
   "source": [
    "pattern = \"he.?o\"\n",
    "match = ['heo', 'hellllllo', 'helo', 'hell', \"olleh\", 'helloh']\n",
    "\n",
    "for i in match:\n",
    "    result = re.match(pattern,i)\n",
    "    \n",
    "    if result:\n",
    "        print(f\"{i} is matched\")\n",
    "    else:\n",
    "        print(f\"{i} is not matched\")"
   ]
  },
  {
   "cell_type": "code",
   "execution_count": null,
   "id": "f1758d05",
   "metadata": {},
   "outputs": [],
   "source": []
  }
 ],
 "metadata": {
  "kernelspec": {
   "display_name": "Python 3 (ipykernel)",
   "language": "python",
   "name": "python3"
  },
  "language_info": {
   "codemirror_mode": {
    "name": "ipython",
    "version": 3
   },
   "file_extension": ".py",
   "mimetype": "text/x-python",
   "name": "python",
   "nbconvert_exporter": "python",
   "pygments_lexer": "ipython3",
   "version": "3.9.16"
  }
 },
 "nbformat": 4,
 "nbformat_minor": 5
}
