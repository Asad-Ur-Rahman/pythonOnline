{
 "cells": [
  {
   "cell_type": "code",
   "execution_count": 2,
   "id": "7043da67",
   "metadata": {},
   "outputs": [
    {
     "name": "stdout",
     "output_type": "stream",
     "text": [
      "abs is not matched\n",
      "alias is matched\n",
      "Alias is not matched\n",
      "An Aliaas is not matched\n"
     ]
    }
   ],
   "source": [
    "import re\n",
    "\n",
    "pattern = '^a...s$'\n",
    "matches = ['abs', 'alias', 'Alias','An Aliaas']\n",
    "\n",
    "for i in matches:\n",
    "    result = re.match(pattern,i)\n",
    "    \n",
    "    if result:\n",
    "        print(f\"{i} is matched\")\n",
    "    else:\n",
    "        print(f\"{i} is not matched\")"
   ]
  },
  {
   "cell_type": "code",
   "execution_count": 3,
   "id": "9ee3196d",
   "metadata": {},
   "outputs": [],
   "source": [
    "pattern = \"he.*o\""
   ]
  },
  {
   "cell_type": "code",
   "execution_count": 6,
   "id": "a9ef8b10",
   "metadata": {},
   "outputs": [],
   "source": [
    "match = ['heo', 'hellllllo', 'helo', 'hell', \"olleh\", 'helloh']"
   ]
  },
  {
   "cell_type": "code",
   "execution_count": 7,
   "id": "01fcc8d9",
   "metadata": {},
   "outputs": [
    {
     "name": "stdout",
     "output_type": "stream",
     "text": [
      "heo is matched\n",
      "hellllllo is matched\n",
      "helo is matched\n",
      "hell is not matched\n",
      "olleh is not matched\n",
      "helloh is matched\n"
     ]
    }
   ],
   "source": [
    "for i in match:\n",
    "    result = re.match(pattern,i)\n",
    "    \n",
    "    if result:\n",
    "        print(f\"{i} is matched\")\n",
    "    else:\n",
    "        print(f\"{i} is not matched\")"
   ]
  },
  {
   "cell_type": "code",
   "execution_count": 8,
   "id": "c9b2cf57",
   "metadata": {},
   "outputs": [
    {
     "name": "stdout",
     "output_type": "stream",
     "text": [
      "heo is not matched\n",
      "hellllllo is matched\n",
      "helo is matched\n",
      "hell is not matched\n",
      "olleh is not matched\n",
      "helloh is matched\n"
     ]
    }
   ],
   "source": [
    "pattern = \"he.+o\"\n",
    "match = ['heo', 'hellllllo', 'helo', 'hell', \"olleh\", 'helloh']\n",
    "\n",
    "for i in match:\n",
    "    result = re.match(pattern,i)\n",
    "    \n",
    "    if result:\n",
    "        print(f\"{i} is matched\")\n",
    "    else:\n",
    "        print(f\"{i} is not matched\")"
   ]
  },
  {
   "cell_type": "code",
   "execution_count": 9,
   "id": "175b5087",
   "metadata": {},
   "outputs": [
    {
     "name": "stdout",
     "output_type": "stream",
     "text": [
      "heo is matched\n",
      "hellllllo is not matched\n",
      "helo is matched\n",
      "hell is not matched\n",
      "olleh is not matched\n",
      "helloh is not matched\n"
     ]
    }
   ],
   "source": [
    "pattern = \"he.?o\"\n",
    "match = ['heo', 'hellllllo', 'helo', 'hell', \"olleh\", 'helloh']\n",
    "\n",
    "for i in match:\n",
    "    result = re.match(pattern,i)\n",
    "    \n",
    "    if result:\n",
    "        print(f\"{i} is matched\")\n",
    "    else:\n",
    "        print(f\"{i} is not matched\")"
   ]
  },
  {
   "cell_type": "code",
   "execution_count": 2,
   "id": "f1758d05",
   "metadata": {},
   "outputs": [
    {
     "name": "stdout",
     "output_type": "stream",
     "text": [
      "the sun is matched\n",
      "In the sun is not matched\n"
     ]
    }
   ],
   "source": [
    "import re\n",
    "\n",
    "pattern = \"\\Athe\"\n",
    "matches = ['the sun', 'In the sun']\n",
    "\n",
    "for i in matches:\n",
    "    result = re.match(pattern,i)\n",
    "    \n",
    "    if result:\n",
    "        print(f\"{i} is matched\")\n",
    "    else:\n",
    "        print(f\"{i} is not matched\")"
   ]
  },
  {
   "cell_type": "code",
   "execution_count": 6,
   "id": "e4500230",
   "metadata": {},
   "outputs": [
    {
     "name": "stdout",
     "output_type": "stream",
     "text": [
      "the python is not matched\n",
      "In python sun is not matched\n"
     ]
    }
   ],
   "source": [
    "import re\n",
    "\n",
    "pattern = \"\\Zpython\"\n",
    "match = ['the python', 'In python sun']\n",
    "\n",
    "for i in match:\n",
    "    result = re.findall(pattern,i)\n",
    "    \n",
    "    if result:\n",
    "        print(f\"{i} is matched\")\n",
    "    else:\n",
    "        print(f\"{i} is not matched\")"
   ]
  },
  {
   "cell_type": "code",
   "execution_count": 7,
   "id": "a3398677",
   "metadata": {},
   "outputs": [
    {
     "name": "stdout",
     "output_type": "stream",
     "text": [
      "['3', '2']\n"
     ]
    }
   ],
   "source": [
    "import re \n",
    "\n",
    "match = \" python 3 and python 2 arte not same \"\n",
    "pattern = '\\d'\n",
    "\n",
    "result = re.findall(pattern, match)\n",
    "\n",
    "print(result)"
   ]
  },
  {
   "cell_type": "code",
   "execution_count": 8,
   "id": "7b1164e0",
   "metadata": {},
   "outputs": [
    {
     "name": "stdout",
     "output_type": "stream",
     "text": [
      "['3', '11', '3', '2', '10', '11']\n"
     ]
    }
   ],
   "source": [
    "import re \n",
    "\n",
    "match = \" python 3.11.3 and python 2.10.11 arte not same \"\n",
    "pattern = '\\d+'\n",
    "\n",
    "result = re.findall(pattern, match)\n",
    "\n",
    "print(result)"
   ]
  },
  {
   "cell_type": "code",
   "execution_count": 9,
   "id": "5746859f",
   "metadata": {},
   "outputs": [
    {
     "name": "stdout",
     "output_type": "stream",
     "text": [
      "['', '', '', '', '', '', '', '', '3', '', '11', '', '3', '', '', '', '', '', '', '', '', '', '', '', '', '2', '', '10', '', '11', '', '', '', '', '', '', '', '', '', '', '', '', '', '', '', '']\n"
     ]
    }
   ],
   "source": [
    "import re \n",
    "\n",
    "match = \" python 3.11.3 and python 2.10.11 arte not same \"\n",
    "pattern = '\\d*'\n",
    "\n",
    "result = re.findall(pattern, match)\n",
    "\n",
    "print(result)"
   ]
  },
  {
   "cell_type": "code",
   "execution_count": 10,
   "id": "ec85ece7",
   "metadata": {},
   "outputs": [
    {
     "name": "stdout",
     "output_type": "stream",
     "text": [
      "['python ', '.', '.', ' and python ', '.', '.', ' arte not same ']\n"
     ]
    }
   ],
   "source": [
    "import re \n",
    "\n",
    "match = \"python 3.11.3 and python 2.10.11 arte not same \"\n",
    "pattern = '\\d+'\n",
    "\n",
    "result = re.split(pattern, match)\n",
    "\n",
    "print(result)"
   ]
  },
  {
   "cell_type": "code",
   "execution_count": 13,
   "id": "622b36c4",
   "metadata": {},
   "outputs": [
    {
     "name": "stdout",
     "output_type": "stream",
     "text": [
      "['python ', '.', '.3 and python 2.10.11 arte not same']\n"
     ]
    }
   ],
   "source": [
    "import re \n",
    "\n",
    "match = \"python 3.11.3 and python 2.10.11 arte not same\"\n",
    "pattern = '\\d+'\n",
    "\n",
    "result = re.split(pattern, match, maxsplit=2)\n",
    "\n",
    "print(result)"
   ]
  },
  {
   "cell_type": "code",
   "execution_count": 14,
   "id": "d563b1ed",
   "metadata": {},
   "outputs": [
    {
     "name": "stdout",
     "output_type": "stream",
     "text": [
      "python3.11.3andpython2.10.11artenotsame\n"
     ]
    }
   ],
   "source": [
    "import re \n",
    "\n",
    "match = \"python 3.11.3 and python 2.10.11 arte not same\"\n",
    "pattern = '\\s+'\n",
    "substitute = ''\n",
    "\n",
    "result = re.sub(pattern, substitute, match)\n",
    "\n",
    "print(result)"
   ]
  },
  {
   "cell_type": "code",
   "execution_count": 15,
   "id": "bbf12d57",
   "metadata": {},
   "outputs": [
    {
     "name": "stdout",
     "output_type": "stream",
     "text": [
      "python3.11.3 and python 2.10.11 arte not same\n"
     ]
    }
   ],
   "source": [
    "import re \n",
    "\n",
    "match = \"python 3.11.3 and python 2.10.11 arte not same\"\n",
    "pattern = '\\s+'\n",
    "substitute = ''\n",
    "\n",
    "result = re.sub(pattern, substitute, match, count=1)\n",
    "\n",
    "print(result)"
   ]
  },
  {
   "cell_type": "code",
   "execution_count": 16,
   "id": "509c1c06",
   "metadata": {},
   "outputs": [
    {
     "name": "stdout",
     "output_type": "stream",
     "text": [
      "python3.11.3and python 2.10.11 arte not same\n"
     ]
    }
   ],
   "source": [
    "import re \n",
    "\n",
    "match = \"python 3.11.3 and python 2.10.11 arte not same\"\n",
    "pattern = '\\s+'\n",
    "substitute = ''\n",
    "\n",
    "result = re.sub(pattern, substitute, match, count=2)\n",
    "\n",
    "print(result)"
   ]
  },
  {
   "cell_type": "code",
   "execution_count": 2,
   "id": "ca276f2d",
   "metadata": {},
   "outputs": [
    {
     "name": "stdout",
     "output_type": "stream",
     "text": [
      "('python3.11.3andpython2.10.11artenotsame', 7)\n"
     ]
    }
   ],
   "source": [
    "import re \n",
    "\n",
    "match = \"python 3.11.3 and python 2.10.11 arte not same\"\n",
    "pattern = '\\s+'\n",
    "substitute = ''\n",
    "\n",
    "result = re.subn(pattern, substitute, match)\n",
    "\n",
    "print(result)"
   ]
  },
  {
   "cell_type": "code",
   "execution_count": 4,
   "id": "d2be95a9",
   "metadata": {},
   "outputs": [
    {
     "name": "stdout",
     "output_type": "stream",
     "text": [
      "not matched\n"
     ]
    }
   ],
   "source": [
    "import re \n",
    "\n",
    "match = \"python 3.11.3 and python 2.10.11 arte not same\"\n",
    "pattern = '\\APython'\n",
    "\n",
    "result = re.search(pattern, match)\n",
    "\n",
    "if result:\n",
    "    print(\"matched\")\n",
    "else:\n",
    "    print(\"not matched\")"
   ]
  },
  {
   "cell_type": "code",
   "execution_count": 5,
   "id": "f8d6e805",
   "metadata": {},
   "outputs": [
    {
     "name": "stdout",
     "output_type": "stream",
     "text": [
      "matched\n"
     ]
    }
   ],
   "source": [
    "import re \n",
    "\n",
    "match = \"Python 3.11.3 and python 2.10.11 arte not same\"\n",
    "pattern = '\\APython'\n",
    "\n",
    "result = re.search(pattern, match)\n",
    "\n",
    "if result:\n",
    "    print(\"matched\")\n",
    "else:\n",
    "    print(\"not matched\")"
   ]
  },
  {
   "cell_type": "code",
   "execution_count": 8,
   "id": "f2284b5e",
   "metadata": {},
   "outputs": [
    {
     "name": "stdout",
     "output_type": "stream",
     "text": [
      "<re.Match object; span=(2, 8), match='801 35'>\n",
      "matched 801 35\n"
     ]
    }
   ],
   "source": [
    "import re \n",
    "\n",
    "string = \"39801 356, 2102 1111\"\n",
    "pattern = '(\\d{3}) (\\d{2})'\n",
    "\n",
    "result = re.search(pattern, string)\n",
    "print(result)\n",
    "if result:\n",
    "    print(f\"matched {result.group()}\")\n",
    "else:\n",
    "    print(\"not matched\")"
   ]
  },
  {
   "cell_type": "code",
   "execution_count": 9,
   "id": "1ce765ba",
   "metadata": {},
   "outputs": [
    {
     "data": {
      "text/plain": [
       "'801'"
      ]
     },
     "execution_count": 9,
     "metadata": {},
     "output_type": "execute_result"
    }
   ],
   "source": [
    "result.group(1)"
   ]
  },
  {
   "cell_type": "code",
   "execution_count": 10,
   "id": "6a2a9a20",
   "metadata": {},
   "outputs": [
    {
     "data": {
      "text/plain": [
       "'35'"
      ]
     },
     "execution_count": 10,
     "metadata": {},
     "output_type": "execute_result"
    }
   ],
   "source": [
    "result.group(2)"
   ]
  },
  {
   "cell_type": "code",
   "execution_count": 11,
   "id": "6618688a",
   "metadata": {},
   "outputs": [
    {
     "data": {
      "text/plain": [
       "('801', '35')"
      ]
     },
     "execution_count": 11,
     "metadata": {},
     "output_type": "execute_result"
    }
   ],
   "source": [
    "result.group(1,2)"
   ]
  },
  {
   "cell_type": "code",
   "execution_count": 12,
   "id": "613b0fbd",
   "metadata": {},
   "outputs": [
    {
     "data": {
      "text/plain": [
       "'801 35'"
      ]
     },
     "execution_count": 12,
     "metadata": {},
     "output_type": "execute_result"
    }
   ],
   "source": [
    "result.group()"
   ]
  },
  {
   "cell_type": "code",
   "execution_count": 13,
   "id": "3b2d9cfa",
   "metadata": {},
   "outputs": [
    {
     "data": {
      "text/plain": [
       "2"
      ]
     },
     "execution_count": 13,
     "metadata": {},
     "output_type": "execute_result"
    }
   ],
   "source": [
    "result.start()"
   ]
  },
  {
   "cell_type": "code",
   "execution_count": 15,
   "id": "87733337",
   "metadata": {},
   "outputs": [
    {
     "data": {
      "text/plain": [
       "8"
      ]
     },
     "execution_count": 15,
     "metadata": {},
     "output_type": "execute_result"
    }
   ],
   "source": [
    "result.end()"
   ]
  },
  {
   "cell_type": "code",
   "execution_count": 16,
   "id": "a938ee75",
   "metadata": {},
   "outputs": [
    {
     "data": {
      "text/plain": [
       "(2, 8)"
      ]
     },
     "execution_count": 16,
     "metadata": {},
     "output_type": "execute_result"
    }
   ],
   "source": [
    "result.span()"
   ]
  },
  {
   "cell_type": "code",
   "execution_count": 17,
   "id": "a6e3e978",
   "metadata": {},
   "outputs": [
    {
     "data": {
      "text/plain": [
       "re.compile(r'(\\d{3}) (\\d{2})', re.UNICODE)"
      ]
     },
     "execution_count": 17,
     "metadata": {},
     "output_type": "execute_result"
    }
   ],
   "source": [
    "result.re"
   ]
  },
  {
   "cell_type": "code",
   "execution_count": 18,
   "id": "b8071949",
   "metadata": {},
   "outputs": [
    {
     "data": {
      "text/plain": [
       "'39801 356, 2102 1111'"
      ]
     },
     "execution_count": 18,
     "metadata": {},
     "output_type": "execute_result"
    }
   ],
   "source": [
    "result.string"
   ]
  },
  {
   "cell_type": "code",
   "execution_count": 22,
   "id": "6e5d145f",
   "metadata": {},
   "outputs": [
    {
     "name": "stdout",
     "output_type": "stream",
     "text": [
      "['\\n', '\\t']\n"
     ]
    }
   ],
   "source": [
    "import re \n",
    "\n",
    "string = \"Python 3.11.3\\n and python 2.10.11\\t are not same\"\n",
    "pattern = r'[\\n\\t]'\n",
    "# pattern = '[\\n\\t]'\n",
    "\n",
    "result = re.findall(pattern,string)\n",
    "\n",
    "print(result)\n"
   ]
  },
  {
   "cell_type": "code",
   "execution_count": null,
   "id": "599f620e",
   "metadata": {},
   "outputs": [],
   "source": []
  },
  {
   "cell_type": "code",
   "execution_count": null,
   "id": "e33b5455",
   "metadata": {},
   "outputs": [],
   "source": []
  }
 ],
 "metadata": {
  "kernelspec": {
   "display_name": "Python 3 (ipykernel)",
   "language": "python",
   "name": "python3"
  },
  "language_info": {
   "codemirror_mode": {
    "name": "ipython",
    "version": 3
   },
   "file_extension": ".py",
   "mimetype": "text/x-python",
   "name": "python",
   "nbconvert_exporter": "python",
   "pygments_lexer": "ipython3",
   "version": "3.9.16"
  }
 },
 "nbformat": 4,
 "nbformat_minor": 5
}
