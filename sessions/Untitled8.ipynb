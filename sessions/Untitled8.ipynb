{
 "cells": [
  {
   "cell_type": "code",
   "execution_count": 1,
   "id": "82a07ebf",
   "metadata": {},
   "outputs": [],
   "source": [
    "class Person:\n",
    "    age = 20\n",
    "    hight = 190 #in cm\n",
    "    \n",
    "    def speak(self):\n",
    "        print(\"Hello I can talk\")"
   ]
  },
  {
   "cell_type": "code",
   "execution_count": 2,
   "id": "a831a539",
   "metadata": {},
   "outputs": [],
   "source": [
    "boy = Person()"
   ]
  },
  {
   "cell_type": "code",
   "execution_count": 3,
   "id": "4f61ba6c",
   "metadata": {},
   "outputs": [
    {
     "data": {
      "text/plain": [
       "20"
      ]
     },
     "execution_count": 3,
     "metadata": {},
     "output_type": "execute_result"
    }
   ],
   "source": [
    "boy.age"
   ]
  },
  {
   "cell_type": "code",
   "execution_count": 4,
   "id": "fee66037",
   "metadata": {},
   "outputs": [
    {
     "name": "stdout",
     "output_type": "stream",
     "text": [
      "Hello I can talk\n"
     ]
    }
   ],
   "source": [
    "boy.speak()"
   ]
  },
  {
   "cell_type": "code",
   "execution_count": 5,
   "id": "b5cf0228",
   "metadata": {},
   "outputs": [],
   "source": [
    "class Person:\n",
    "    def __init__(self, age, height):\n",
    "        self.age = age\n",
    "        self.height = height"
   ]
  },
  {
   "cell_type": "code",
   "execution_count": 6,
   "id": "0ba80b25",
   "metadata": {},
   "outputs": [],
   "source": [
    "p1 = Person(35, 184)"
   ]
  },
  {
   "cell_type": "code",
   "execution_count": 7,
   "id": "9f0d04b9",
   "metadata": {},
   "outputs": [
    {
     "name": "stdout",
     "output_type": "stream",
     "text": [
      "<__main__.Person object at 0x000001438D198820>\n"
     ]
    }
   ],
   "source": [
    "print(p1)"
   ]
  },
  {
   "cell_type": "code",
   "execution_count": 8,
   "id": "9ad5270e",
   "metadata": {},
   "outputs": [],
   "source": [
    "class Person:\n",
    "    def __init__(self, age, height):\n",
    "        self.age = age\n",
    "        self.height = height\n",
    "        \n",
    "    def __str__(self):\n",
    "        return f\"Age: {self.age} Height: {self.height}\""
   ]
  },
  {
   "cell_type": "code",
   "execution_count": 9,
   "id": "c4a7e689",
   "metadata": {},
   "outputs": [],
   "source": [
    "p1 = Person(35, 184)"
   ]
  },
  {
   "cell_type": "code",
   "execution_count": 10,
   "id": "06bad8e7",
   "metadata": {},
   "outputs": [
    {
     "name": "stdout",
     "output_type": "stream",
     "text": [
      "Age: 35 Height: 184\n"
     ]
    }
   ],
   "source": [
    "print(p1)"
   ]
  },
  {
   "cell_type": "code",
   "execution_count": 13,
   "id": "8e44baf7",
   "metadata": {},
   "outputs": [
    {
     "name": "stdout",
     "output_type": "stream",
     "text": [
      "<class 'method'>\n"
     ]
    }
   ],
   "source": [
    "print(type(p1.__init__))"
   ]
  },
  {
   "cell_type": "code",
   "execution_count": 14,
   "id": "d7d85116",
   "metadata": {},
   "outputs": [],
   "source": [
    "class Person:\n",
    "    def __init__(self, age, height):\n",
    "        self.age = age\n",
    "        self.height = height\n",
    "        \n",
    "    def myMethod(self):\n",
    "        print(f\"Hello my age is {self.age}\")"
   ]
  },
  {
   "cell_type": "code",
   "execution_count": 15,
   "id": "469510ef",
   "metadata": {},
   "outputs": [],
   "source": [
    "p2 = Person(45, 200)"
   ]
  },
  {
   "cell_type": "code",
   "execution_count": 16,
   "id": "e190eb1d",
   "metadata": {},
   "outputs": [
    {
     "name": "stdout",
     "output_type": "stream",
     "text": [
      "Hello my age is 45\n"
     ]
    }
   ],
   "source": [
    "p2.myMethod()"
   ]
  },
  {
   "cell_type": "code",
   "execution_count": 17,
   "id": "236c4f95",
   "metadata": {},
   "outputs": [
    {
     "data": {
      "text/plain": [
       "45"
      ]
     },
     "execution_count": 17,
     "metadata": {},
     "output_type": "execute_result"
    }
   ],
   "source": [
    "p2.age"
   ]
  },
  {
   "cell_type": "code",
   "execution_count": 18,
   "id": "12c98094",
   "metadata": {},
   "outputs": [
    {
     "data": {
      "text/plain": [
       "60"
      ]
     },
     "execution_count": 18,
     "metadata": {},
     "output_type": "execute_result"
    }
   ],
   "source": [
    "p2.age = 60\n",
    "p2.age"
   ]
  },
  {
   "cell_type": "code",
   "execution_count": 19,
   "id": "acf2f246",
   "metadata": {},
   "outputs": [
    {
     "name": "stdout",
     "output_type": "stream",
     "text": [
      "Hello my age is 60\n"
     ]
    }
   ],
   "source": [
    "p2.myMethod()"
   ]
  },
  {
   "cell_type": "code",
   "execution_count": 1,
   "id": "ba1996af",
   "metadata": {},
   "outputs": [],
   "source": [
    "class Person:\n",
    "    def __init__(self, age, height):\n",
    "        self.age = age\n",
    "        self.height = height\n",
    "        \n",
    "    def myMethod(self):\n",
    "        print(f\"Hello my age is {self.age}\")"
   ]
  },
  {
   "cell_type": "code",
   "execution_count": 2,
   "id": "c9bb27ee",
   "metadata": {},
   "outputs": [],
   "source": [
    "class Student(Person):\n",
    "    pass"
   ]
  },
  {
   "cell_type": "code",
   "execution_count": 3,
   "id": "f97a50e1",
   "metadata": {},
   "outputs": [
    {
     "data": {
      "text/plain": [
       "45"
      ]
     },
     "execution_count": 3,
     "metadata": {},
     "output_type": "execute_result"
    }
   ],
   "source": [
    "st1 = Student(45,200)\n",
    "\n",
    "st1.age"
   ]
  },
  {
   "cell_type": "code",
   "execution_count": 4,
   "id": "18899f3a",
   "metadata": {},
   "outputs": [
    {
     "name": "stdout",
     "output_type": "stream",
     "text": [
      "Hello my age is 45\n"
     ]
    }
   ],
   "source": [
    "st1.myMethod()"
   ]
  },
  {
   "cell_type": "code",
   "execution_count": 6,
   "id": "a7b9f34a",
   "metadata": {},
   "outputs": [],
   "source": [
    "class Student(Person):\n",
    "    def __init__(self,age, height):\n",
    "        pass"
   ]
  },
  {
   "cell_type": "code",
   "execution_count": 7,
   "id": "7741041e",
   "metadata": {},
   "outputs": [],
   "source": [
    "st2 = Student(34, 786)"
   ]
  },
  {
   "cell_type": "code",
   "execution_count": 8,
   "id": "74ad84dc",
   "metadata": {},
   "outputs": [
    {
     "ename": "AttributeError",
     "evalue": "'Student' object has no attribute 'age'",
     "output_type": "error",
     "traceback": [
      "\u001b[1;31m---------------------------------------------------------------------------\u001b[0m",
      "\u001b[1;31mAttributeError\u001b[0m                            Traceback (most recent call last)",
      "\u001b[1;32m~\\AppData\\Local\\Temp\\ipykernel_10352\\428166035.py\u001b[0m in \u001b[0;36m<module>\u001b[1;34m\u001b[0m\n\u001b[1;32m----> 1\u001b[1;33m \u001b[0mst2\u001b[0m\u001b[1;33m.\u001b[0m\u001b[0mmyMethod\u001b[0m\u001b[1;33m(\u001b[0m\u001b[1;33m)\u001b[0m\u001b[1;33m\u001b[0m\u001b[1;33m\u001b[0m\u001b[0m\n\u001b[0m",
      "\u001b[1;32m~\\AppData\\Local\\Temp\\ipykernel_10352\\1021061979.py\u001b[0m in \u001b[0;36mmyMethod\u001b[1;34m(self)\u001b[0m\n\u001b[0;32m      5\u001b[0m \u001b[1;33m\u001b[0m\u001b[0m\n\u001b[0;32m      6\u001b[0m     \u001b[1;32mdef\u001b[0m \u001b[0mmyMethod\u001b[0m\u001b[1;33m(\u001b[0m\u001b[0mself\u001b[0m\u001b[1;33m)\u001b[0m\u001b[1;33m:\u001b[0m\u001b[1;33m\u001b[0m\u001b[1;33m\u001b[0m\u001b[0m\n\u001b[1;32m----> 7\u001b[1;33m         \u001b[0mprint\u001b[0m\u001b[1;33m(\u001b[0m\u001b[1;34mf\"Hello my age is {self.age}\"\u001b[0m\u001b[1;33m)\u001b[0m\u001b[1;33m\u001b[0m\u001b[1;33m\u001b[0m\u001b[0m\n\u001b[0m",
      "\u001b[1;31mAttributeError\u001b[0m: 'Student' object has no attribute 'age'"
     ]
    }
   ],
   "source": [
    "st2.myMethod()"
   ]
  },
  {
   "cell_type": "code",
   "execution_count": 13,
   "id": "29e1c4bd",
   "metadata": {},
   "outputs": [],
   "source": [
    "class Student(Person):\n",
    "    def __init__(self,age, height):\n",
    "        Person.__init__(self, age,height)"
   ]
  },
  {
   "cell_type": "code",
   "execution_count": 14,
   "id": "2b8a1f57",
   "metadata": {},
   "outputs": [
    {
     "name": "stdout",
     "output_type": "stream",
     "text": [
      "Hello my age is 34\n"
     ]
    }
   ],
   "source": [
    "st2 = Student(34, 786)\n",
    "st2.myMethod()"
   ]
  },
  {
   "cell_type": "code",
   "execution_count": 30,
   "id": "68ab957a",
   "metadata": {},
   "outputs": [],
   "source": [
    "class Student(Person):\n",
    "    def __init__(self,age, height,year):\n",
    "        super().__init__(age,height)\n",
    "        \n",
    "        self.__gradzation = year\n",
    "    \n",
    "    def setter(self, year,key):\n",
    "        if key == 'python':\n",
    "            self.__gradzation = year\n",
    "        else:\n",
    "            print(\"No permision to modify\")\n",
    "        \n",
    "    def getter(self):\n",
    "        print(self.__gradzation)\n",
    "        \n",
    "    "
   ]
  },
  {
   "cell_type": "code",
   "execution_count": 31,
   "id": "c6dda78c",
   "metadata": {},
   "outputs": [],
   "source": [
    "student1 = Student(19,200, 2023)"
   ]
  },
  {
   "cell_type": "code",
   "execution_count": 26,
   "id": "49254d63",
   "metadata": {},
   "outputs": [
    {
     "ename": "AttributeError",
     "evalue": "'Student' object has no attribute '__gradzation'",
     "output_type": "error",
     "traceback": [
      "\u001b[1;31m---------------------------------------------------------------------------\u001b[0m",
      "\u001b[1;31mAttributeError\u001b[0m                            Traceback (most recent call last)",
      "\u001b[1;32m~\\AppData\\Local\\Temp\\ipykernel_10352\\3072310007.py\u001b[0m in \u001b[0;36m<module>\u001b[1;34m\u001b[0m\n\u001b[1;32m----> 1\u001b[1;33m \u001b[0mstudent1\u001b[0m\u001b[1;33m.\u001b[0m\u001b[0m__gradzation\u001b[0m\u001b[1;33m\u001b[0m\u001b[1;33m\u001b[0m\u001b[0m\n\u001b[0m",
      "\u001b[1;31mAttributeError\u001b[0m: 'Student' object has no attribute '__gradzation'"
     ]
    }
   ],
   "source": [
    "student1.__gradzation"
   ]
  },
  {
   "cell_type": "code",
   "execution_count": 27,
   "id": "396666a7",
   "metadata": {},
   "outputs": [
    {
     "name": "stdout",
     "output_type": "stream",
     "text": [
      "2023\n"
     ]
    }
   ],
   "source": [
    "student1.getter()"
   ]
  },
  {
   "cell_type": "code",
   "execution_count": 33,
   "id": "34a2bf76",
   "metadata": {},
   "outputs": [
    {
     "name": "stdout",
     "output_type": "stream",
     "text": [
      "No permision to modify\n"
     ]
    }
   ],
   "source": [
    "student1.setter(2019,\"c++\")"
   ]
  },
  {
   "cell_type": "code",
   "execution_count": 29,
   "id": "d8918d1f",
   "metadata": {},
   "outputs": [
    {
     "name": "stdout",
     "output_type": "stream",
     "text": [
      "2019\n"
     ]
    }
   ],
   "source": [
    "student1.getter()"
   ]
  },
  {
   "cell_type": "code",
   "execution_count": null,
   "id": "15326659",
   "metadata": {},
   "outputs": [],
   "source": [
    "# %load ploy.py\n",
    "class employee():\n",
    "    def __init__(self,name,age,id,salary):  \n",
    "        self.name = name\n",
    "        slf.age = age\n",
    "        slf.salary = salary\n",
    "        slf.id = id\n",
    "    def earn(self):\n",
    "        pass\n",
    " \n",
    "\n",
    "class childemployee1(employee):\n",
    " \n",
    "   def earn(self):\n",
    "        print(\"no money\")\n",
    " \n",
    "class childemployee2(employee):\n",
    " \n",
    "   def earn(self):\n",
    "        print(\"has money\")\n",
    " \n",
    "c = childemployee1\n",
    "c.earn(employee)\n",
    "d = childemployee2\n",
    "d.earn(employee)"
   ]
  },
  {
   "cell_type": "code",
   "execution_count": null,
   "id": "1487a80a",
   "metadata": {},
   "outputs": [],
   "source": []
  }
 ],
 "metadata": {
  "kernelspec": {
   "display_name": "Python 3 (ipykernel)",
   "language": "python",
   "name": "python3"
  },
  "language_info": {
   "codemirror_mode": {
    "name": "ipython",
    "version": 3
   },
   "file_extension": ".py",
   "mimetype": "text/x-python",
   "name": "python",
   "nbconvert_exporter": "python",
   "pygments_lexer": "ipython3",
   "version": "3.9.16"
  }
 },
 "nbformat": 4,
 "nbformat_minor": 5
}
