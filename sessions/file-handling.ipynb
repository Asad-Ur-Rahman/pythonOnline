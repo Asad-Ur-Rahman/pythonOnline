{
 "cells": [
  {
   "cell_type": "code",
   "execution_count": 1,
   "id": "05c871f4",
   "metadata": {},
   "outputs": [],
   "source": [
    "myFile = open('kid','w')"
   ]
  },
  {
   "cell_type": "code",
   "execution_count": 5,
   "id": "7589ea24",
   "metadata": {},
   "outputs": [
    {
     "name": "stdout",
     "output_type": "stream",
     "text": [
      "Enter name: asad\n",
      "Enter name: shahnawaz\n",
      "Enter name: malik\n",
      "Enter name: ujala\n",
      "Enter name: taqi\n"
     ]
    }
   ],
   "source": [
    "for i in range(5):\n",
    "    name = input(\"Enter name: \")\n",
    "    myFile.write(f\"{name} \\n\")\n",
    "myFile.close()"
   ]
  },
  {
   "cell_type": "code",
   "execution_count": 9,
   "id": "b1b3a043",
   "metadata": {},
   "outputs": [
    {
     "data": {
      "text/plain": [
       "'asad \\n'"
      ]
     },
     "execution_count": 9,
     "metadata": {},
     "output_type": "execute_result"
    }
   ],
   "source": [
    "open('kid').readline()"
   ]
  },
  {
   "cell_type": "code",
   "execution_count": 10,
   "id": "4a865a8d",
   "metadata": {},
   "outputs": [
    {
     "name": "stdout",
     "output_type": "stream",
     "text": [
      "asad \n",
      "\n",
      "Sahanawaz \n",
      "\n",
      "Malik Hasan \n",
      "\n",
      "Ujala \n",
      "\n",
      "Taqi \n",
      "\n",
      "asad \n",
      "\n",
      "shahnawaz \n",
      "\n",
      "malik \n",
      "\n",
      "ujala \n",
      "\n",
      "taqi \n",
      "\n"
     ]
    }
   ],
   "source": [
    "with open('kid','r') as name:\n",
    "    for i in name:\n",
    "        print(i)"
   ]
  },
  {
   "cell_type": "code",
   "execution_count": 11,
   "id": "95b2a0e0",
   "metadata": {},
   "outputs": [
    {
     "name": "stdout",
     "output_type": "stream",
     "text": [
      "Hello! Welcome to test.txt\n",
      "This file is for testing purposes.\n",
      "Good Luck!\n"
     ]
    }
   ],
   "source": [
    "with open(\"test.txt\") as test:\n",
    "    print(test.read())"
   ]
  },
  {
   "cell_type": "code",
   "execution_count": null,
   "id": "bd14376c",
   "metadata": {},
   "outputs": [],
   "source": [
    "C:\\Users\\Asad\\Documents"
   ]
  },
  {
   "cell_type": "code",
   "execution_count": 13,
   "id": "c82ebe94",
   "metadata": {},
   "outputs": [
    {
     "name": "stdout",
     "output_type": "stream",
     "text": [
      "hello, I am file from some other location\n"
     ]
    }
   ],
   "source": [
    "with open(\"C:/Users/Asad/Documents/myFile.txt\") as test:\n",
    "    print(test.read())"
   ]
  },
  {
   "cell_type": "code",
   "execution_count": 15,
   "id": "9fb00dea",
   "metadata": {},
   "outputs": [
    {
     "name": "stdout",
     "output_type": "stream",
     "text": [
      "hello, \n"
     ]
    }
   ],
   "source": [
    "with open(\"C:/Users/Asad/Documents/myFile.txt\") as test:\n",
    "    print(test.read(7))"
   ]
  },
  {
   "cell_type": "code",
   "execution_count": 16,
   "id": "ce69f92b",
   "metadata": {},
   "outputs": [
    {
     "name": "stdout",
     "output_type": "stream",
     "text": [
      "Hello! Welcome to test.txt\n",
      "\n"
     ]
    }
   ],
   "source": [
    "with open(\"test.txt\") as test:\n",
    "    print(test.readline())"
   ]
  },
  {
   "cell_type": "code",
   "execution_count": 17,
   "id": "a73e3604",
   "metadata": {},
   "outputs": [
    {
     "name": "stdout",
     "output_type": "stream",
     "text": [
      "Hello! Welcome to test.txt\n",
      "\n",
      "This file is for testing purposes.\n",
      "\n"
     ]
    }
   ],
   "source": [
    "with open(\"test.txt\") as test:\n",
    "    print(test.readline())\n",
    "    print(test.readline())"
   ]
  },
  {
   "cell_type": "code",
   "execution_count": 19,
   "id": "39b7d82c",
   "metadata": {},
   "outputs": [],
   "source": [
    "with open(\"C:/Users/Asad/Documents/myFile.txt\",'w') as test:\n",
    "#     print(test.read(7))\n",
    "    test.write(\"file is modified now\")\n",
    " "
   ]
  },
  {
   "cell_type": "code",
   "execution_count": 20,
   "id": "90986ce3",
   "metadata": {},
   "outputs": [
    {
     "data": {
      "text/plain": [
       "'file is modified now'"
      ]
     },
     "execution_count": 20,
     "metadata": {},
     "output_type": "execute_result"
    }
   ],
   "source": [
    "open(\"C:/Users/Asad/Documents/myFile.txt\").read()"
   ]
  },
  {
   "cell_type": "code",
   "execution_count": 21,
   "id": "61d1acc3",
   "metadata": {},
   "outputs": [
    {
     "data": {
      "text/plain": [
       "'hello, I am file from some other location'"
      ]
     },
     "execution_count": 21,
     "metadata": {},
     "output_type": "execute_result"
    }
   ],
   "source": [
    "open(\"C:/Users/Asad/Documents/myFile.txt\").read()"
   ]
  },
  {
   "cell_type": "code",
   "execution_count": 22,
   "id": "ef73eb3e",
   "metadata": {},
   "outputs": [],
   "source": [
    "with open(\"C:/Users/Asad/Documents/myFile.txt\",'a') as test:\n",
    "#     print(test.read(7))\n",
    "    test.write(\"file is modified now\")\n",
    " "
   ]
  },
  {
   "cell_type": "code",
   "execution_count": 23,
   "id": "ab956e87",
   "metadata": {},
   "outputs": [
    {
     "data": {
      "text/plain": [
       "'hello, I am file from some other locationfile is modified now'"
      ]
     },
     "execution_count": 23,
     "metadata": {},
     "output_type": "execute_result"
    }
   ],
   "source": [
    "open(\"C:/Users/Asad/Documents/myFile.txt\").read()"
   ]
  },
  {
   "cell_type": "code",
   "execution_count": 25,
   "id": "373900fc",
   "metadata": {},
   "outputs": [
    {
     "ename": "FileNotFoundError",
     "evalue": "[WinError 2] The system cannot find the file specified: 'C:/Users/Asad/Documents/myFile.txt'",
     "output_type": "error",
     "traceback": [
      "\u001b[1;31m---------------------------------------------------------------------------\u001b[0m",
      "\u001b[1;31mFileNotFoundError\u001b[0m                         Traceback (most recent call last)",
      "Cell \u001b[1;32mIn[25], line 3\u001b[0m\n\u001b[0;32m      1\u001b[0m \u001b[38;5;28;01mimport\u001b[39;00m \u001b[38;5;21;01mos\u001b[39;00m\n\u001b[1;32m----> 3\u001b[0m \u001b[43mos\u001b[49m\u001b[38;5;241;43m.\u001b[39;49m\u001b[43mremove\u001b[49m\u001b[43m(\u001b[49m\u001b[38;5;124;43m\"\u001b[39;49m\u001b[38;5;124;43mC:/Users/Asad/Documents/myFile.txt\u001b[39;49m\u001b[38;5;124;43m\"\u001b[39;49m\u001b[43m)\u001b[49m\n",
      "\u001b[1;31mFileNotFoundError\u001b[0m: [WinError 2] The system cannot find the file specified: 'C:/Users/Asad/Documents/myFile.txt'"
     ]
    }
   ],
   "source": [
    "import os\n",
    "\n",
    "os.remove(\"C:/Users/Asad/Documents/myFile.txt\")"
   ]
  },
  {
   "cell_type": "code",
   "execution_count": null,
   "id": "583e90c4",
   "metadata": {},
   "outputs": [],
   "source": [
    "os.rmdir(\"\")"
   ]
  }
 ],
 "metadata": {
  "kernelspec": {
   "display_name": "Python 3 (ipykernel)",
   "language": "python",
   "name": "python3"
  },
  "language_info": {
   "codemirror_mode": {
    "name": "ipython",
    "version": 3
   },
   "file_extension": ".py",
   "mimetype": "text/x-python",
   "name": "python",
   "nbconvert_exporter": "python",
   "pygments_lexer": "ipython3",
   "version": "3.9.16"
  }
 },
 "nbformat": 4,
 "nbformat_minor": 5
}
