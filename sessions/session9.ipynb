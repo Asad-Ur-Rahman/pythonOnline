{
 "cells": [
  {
   "cell_type": "markdown",
   "id": "5c2d6525",
   "metadata": {},
   "source": [
    "Approximate solutions"
   ]
  },
  {
   "cell_type": "code",
   "execution_count": null,
   "id": "eea77c6a",
   "metadata": {},
   "outputs": [],
   "source": [
    "0.2 + 0.1 # 0.3"
   ]
  },
  {
   "cell_type": "markdown",
   "id": "e43fe0e1",
   "metadata": {},
   "source": [
    "Imprecise calculations\n",
    "\n",
    "Internally, a number is represented in 64-bit format IEEE-754, so there are exactly 64 bits to store a number: 52 of them are used to store the digits, 11 of them store the position of the decimal point, and 1 bit is for the sign.\n",
    "\n"
   ]
  },
  {
   "cell_type": "code",
   "execution_count": 1,
   "id": "5e0ef35b",
   "metadata": {},
   "outputs": [
    {
     "name": "stdout",
     "output_type": "stream",
     "text": [
      "Enter any integer to find square root: 49\n",
      "number of guesses = 69993\n",
      "6.999299999997026 is close to suqare root of 49\n"
     ]
    }
   ],
   "source": [
    "# %load aproxsqrt.py\n",
    "epsilon = 0.01\n",
    "step = epsilon ** 2\n",
    "num_guess = 0\n",
    "ans = 0.0\n",
    "\n",
    "x = int(input(\"Enter any integer to find square root: \"))\n",
    "\n",
    "while abs(ans **2 - x) >= epsilon and ans <= x:\n",
    "    ans += step\n",
    "    num_guess += 1\n",
    "\n",
    "print('number of guesses =', num_guess)\n",
    "\n",
    "if abs(ans**2 - x) >= epsilon:\n",
    "    print('failed on suqare root of', x)\n",
    "else:\n",
    "    print(ans, 'is close to suqare root of', x)"
   ]
  },
  {
   "cell_type": "code",
   "execution_count": null,
   "id": "96ae2a95",
   "metadata": {},
   "outputs": [],
   "source": [
    "round(ans)"
   ]
  },
  {
   "cell_type": "code",
   "execution_count": null,
   "id": "3bdec1d1",
   "metadata": {},
   "outputs": [],
   "source": [
    "0.2 + 0.1"
   ]
  },
  {
   "cell_type": "code",
   "execution_count": null,
   "id": "b65e268b",
   "metadata": {},
   "outputs": [],
   "source": [
    "-1e500"
   ]
  },
  {
   "cell_type": "code",
   "execution_count": null,
   "id": "fe9b0a24",
   "metadata": {},
   "outputs": [],
   "source": []
  }
 ],
 "metadata": {
  "kernelspec": {
   "display_name": "Python 3 (ipykernel)",
   "language": "python",
   "name": "python3"
  },
  "language_info": {
   "codemirror_mode": {
    "name": "ipython",
    "version": 3
   },
   "file_extension": ".py",
   "mimetype": "text/x-python",
   "name": "python",
   "nbconvert_exporter": "python",
   "pygments_lexer": "ipython3",
   "version": "3.9.16"
  }
 },
 "nbformat": 4,
 "nbformat_minor": 5
}
