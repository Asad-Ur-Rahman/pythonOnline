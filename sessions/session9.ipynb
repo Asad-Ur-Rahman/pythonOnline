{
 "cells": [
  {
   "cell_type": "markdown",
   "id": "5c2d6525",
   "metadata": {},
   "source": [
    "Approximate solutions"
   ]
  },
  {
   "cell_type": "code",
   "execution_count": 6,
   "id": "eea77c6a",
   "metadata": {},
   "outputs": [
    {
     "data": {
      "text/plain": [
       "0.30000000000000004"
      ]
     },
     "execution_count": 6,
     "metadata": {},
     "output_type": "execute_result"
    }
   ],
   "source": [
    "0.2 + 0.1 # 0.3"
   ]
  },
  {
   "cell_type": "markdown",
   "id": "e43fe0e1",
   "metadata": {},
   "source": [
    "Imprecise calculations\n",
    "\n",
    "Internally, a number is represented in 64-bit format IEEE-754, so there are exactly 64 bits to store a number: 52 of them are used to store the digits, 11 of them store the position of the decimal point, and 1 bit is for the sign.\n",
    "\n"
   ]
  },
  {
   "cell_type": "code",
   "execution_count": 5,
   "id": "5e0ef35b",
   "metadata": {},
   "outputs": [
    {
     "name": "stdout",
     "output_type": "stream",
     "text": [
      "Enter any integer to find square root: 0.25\n"
     ]
    },
    {
     "ename": "ValueError",
     "evalue": "invalid literal for int() with base 10: '0.25'",
     "output_type": "error",
     "traceback": [
      "\u001b[1;31m---------------------------------------------------------------------------\u001b[0m",
      "\u001b[1;31mValueError\u001b[0m                                Traceback (most recent call last)",
      "\u001b[1;32m~\\AppData\\Local\\Temp\\ipykernel_46120\\592459198.py\u001b[0m in \u001b[0;36m<module>\u001b[1;34m\u001b[0m\n\u001b[0;32m      5\u001b[0m \u001b[0mans\u001b[0m \u001b[1;33m=\u001b[0m \u001b[1;36m0.0\u001b[0m\u001b[1;33m\u001b[0m\u001b[1;33m\u001b[0m\u001b[0m\n\u001b[0;32m      6\u001b[0m \u001b[1;33m\u001b[0m\u001b[0m\n\u001b[1;32m----> 7\u001b[1;33m \u001b[0mx\u001b[0m \u001b[1;33m=\u001b[0m \u001b[0mint\u001b[0m\u001b[1;33m(\u001b[0m\u001b[0minput\u001b[0m\u001b[1;33m(\u001b[0m\u001b[1;34m\"Enter any integer to find square root: \"\u001b[0m\u001b[1;33m)\u001b[0m\u001b[1;33m)\u001b[0m\u001b[1;33m\u001b[0m\u001b[1;33m\u001b[0m\u001b[0m\n\u001b[0m\u001b[0;32m      8\u001b[0m \u001b[1;33m\u001b[0m\u001b[0m\n\u001b[0;32m      9\u001b[0m \u001b[1;32mwhile\u001b[0m \u001b[0mabs\u001b[0m\u001b[1;33m(\u001b[0m\u001b[0mans\u001b[0m \u001b[1;33m**\u001b[0m\u001b[1;36m2\u001b[0m \u001b[1;33m-\u001b[0m \u001b[0mx\u001b[0m\u001b[1;33m)\u001b[0m \u001b[1;33m>=\u001b[0m \u001b[0mepsilon\u001b[0m \u001b[1;32mand\u001b[0m \u001b[0mans\u001b[0m \u001b[1;33m<=\u001b[0m \u001b[0mx\u001b[0m\u001b[1;33m:\u001b[0m\u001b[1;33m\u001b[0m\u001b[1;33m\u001b[0m\u001b[0m\n",
      "\u001b[1;31mValueError\u001b[0m: invalid literal for int() with base 10: '0.25'"
     ]
    }
   ],
   "source": [
    "# %load aproxsqrt.py\n",
    "epsilon = 0.01\n",
    "step = epsilon ** 2\n",
    "num_guess = 0\n",
    "ans = 0.0\n",
    "\n",
    "x = int(input(\"Enter any integer to find square root: \"))\n",
    "\n",
    "while abs(ans **2 - x) >= epsilon and ans <= x:\n",
    "    ans += step\n",
    "    num_guess += 1\n",
    "\n",
    "print('number of guesses =', num_guess)\n",
    "\n",
    "if abs(ans**2 - x) >= epsilon:\n",
    "    print('failed on suqare root of', x)\n",
    "else:\n",
    "    print(ans, 'is close to suqare root of', x)"
   ]
  },
  {
   "cell_type": "code",
   "execution_count": 2,
   "id": "96ae2a95",
   "metadata": {},
   "outputs": [
    {
     "data": {
      "text/plain": [
       "5"
      ]
     },
     "execution_count": 2,
     "metadata": {},
     "output_type": "execute_result"
    }
   ],
   "source": [
    "round(ans)"
   ]
  },
  {
   "cell_type": "code",
   "execution_count": 3,
   "id": "3bdec1d1",
   "metadata": {},
   "outputs": [
    {
     "data": {
      "text/plain": [
       "0.30000000000000004"
      ]
     },
     "execution_count": 3,
     "metadata": {},
     "output_type": "execute_result"
    }
   ],
   "source": [
    "0.2 + 0.1"
   ]
  },
  {
   "cell_type": "code",
   "execution_count": null,
   "id": "b65e268b",
   "metadata": {},
   "outputs": [],
   "source": [
    "-1e500"
   ]
  },
  {
   "cell_type": "code",
   "execution_count": null,
   "id": "fe9b0a24",
   "metadata": {},
   "outputs": [],
   "source": []
  }
 ],
 "metadata": {
  "kernelspec": {
   "display_name": "Python 3 (ipykernel)",
   "language": "python",
   "name": "python3"
  },
  "language_info": {
   "codemirror_mode": {
    "name": "ipython",
    "version": 3
   },
   "file_extension": ".py",
   "mimetype": "text/x-python",
   "name": "python",
   "nbconvert_exporter": "python",
   "pygments_lexer": "ipython3",
   "version": "3.9.16"
  }
 },
 "nbformat": 4,
 "nbformat_minor": 5
}
