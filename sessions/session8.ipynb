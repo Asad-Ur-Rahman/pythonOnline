{
 "cells": [
  {
   "cell_type": "markdown",
   "id": "03f67b3b",
   "metadata": {},
   "source": [
    "1. wirte a program to detect/find the prime number\n",
    "2. wirte a program to find prime numbers in a range "
   ]
  },
  {
   "cell_type": "code",
   "execution_count": null,
   "id": "987ad14c",
   "metadata": {},
   "outputs": [],
   "source": [
    "x = int(input(\"Enter any integer\"))"
   ]
  },
  {
   "cell_type": "code",
   "execution_count": 2,
   "id": "862680c4",
   "metadata": {},
   "outputs": [
    {
     "name": "stdout",
     "output_type": "stream",
     "text": [
      "Enter an integaer greater than 2: 9\n",
      "2 4 5 6 7 8 "
     ]
    }
   ],
   "source": [
    "# %load prime3.py\n",
    "x = int(input(\"Enter an integaer greater than 2: \"))\n",
    "\n",
    "for guess in range(2,x):\n",
    "\n",
    "    if x%guess == 0:\n",
    "        continue\n",
    "    else:\n",
    "        print(guess, end=\" \")\n"
   ]
  },
  {
   "cell_type": "code",
   "execution_count": 11,
   "id": "261d46d8",
   "metadata": {},
   "outputs": [
    {
     "name": "stdout",
     "output_type": "stream",
     "text": [
      "Enter an integaer greater than 2: 101\n",
      "101 is a prime number\n",
      "99\n"
     ]
    }
   ],
   "source": [
    "# %load prime1.py\n",
    "x = int(input(\"Enter an integaer greater than 2: \"))\n",
    "\n",
    "smallest_divisor = None\n",
    "count = 0\n",
    "\n",
    "for guess in range(2,x):\n",
    "\n",
    "    if x%guess == 0:\n",
    "        smallest_divisor = guess\n",
    "        break\n",
    "    \n",
    "    count = count +1\n",
    "if smallest_divisor != None:\n",
    "\n",
    "    print(f\"Smallest divisor of {x} is {smallest_divisor}.\")\n",
    "\n",
    "else:\n",
    "    print(f\"{x} is a prime number\")\n",
    "\n",
    "print(count)"
   ]
  },
  {
   "cell_type": "code",
   "execution_count": 14,
   "id": "17b6480a",
   "metadata": {},
   "outputs": [
    {
     "name": "stdout",
     "output_type": "stream",
     "text": [
      "Enter an integaer greater than 2101\n",
      "101 is a prime number\n",
      "49\n"
     ]
    }
   ],
   "source": [
    "# %load prime2.py\n",
    "x = int(input(\"Enter an integaer greater than 2\"))\n",
    "\n",
    "smallest_divisor = None\n",
    "\n",
    "count = 0\n",
    "\n",
    "if x%2 == 0:\n",
    "    smallest_divisor = 2\n",
    "\n",
    "else:\n",
    "    for guess in range(3,x,2):\n",
    "\n",
    "        if x%guess == 0:\n",
    "            smallest_divisor = guess\n",
    "            break\n",
    "        count = count +1\n",
    "\n",
    "\n",
    "if smallest_divisor != None:\n",
    "\n",
    "    print(f\"Smallest divisor of {x} is {smallest_divisor}.\")\n",
    "\n",
    "else:\n",
    "    print(f\"{x} is a prime number\")\n",
    "print(count)"
   ]
  },
  {
   "cell_type": "code",
   "execution_count": null,
   "id": "afb35572",
   "metadata": {},
   "outputs": [],
   "source": []
  }
 ],
 "metadata": {
  "kernelspec": {
   "display_name": "Python 3 (ipykernel)",
   "language": "python",
   "name": "python3"
  },
  "language_info": {
   "codemirror_mode": {
    "name": "ipython",
    "version": 3
   },
   "file_extension": ".py",
   "mimetype": "text/x-python",
   "name": "python",
   "nbconvert_exporter": "python",
   "pygments_lexer": "ipython3",
   "version": "3.9.16"
  }
 },
 "nbformat": 4,
 "nbformat_minor": 5
}
