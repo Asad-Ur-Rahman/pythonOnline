{
 "cells": [
  {
   "cell_type": "code",
   "execution_count": 7,
   "id": "ffdffbe7",
   "metadata": {},
   "outputs": [],
   "source": [
    "# %load fact_iter.py\n",
    "def fact_iter(n):\n",
    "\n",
    "    result = 1\n",
    "    for i in range(1, n + 1):\n",
    "        result *= i\n",
    "    \n",
    "    return result"
   ]
  },
  {
   "cell_type": "code",
   "execution_count": 8,
   "id": "5e6772c9",
   "metadata": {},
   "outputs": [
    {
     "data": {
      "text/plain": [
       "6"
      ]
     },
     "execution_count": 8,
     "metadata": {},
     "output_type": "execute_result"
    }
   ],
   "source": [
    "fact_iter(3)"
   ]
  },
  {
   "cell_type": "code",
   "execution_count": 5,
   "id": "21247f24",
   "metadata": {},
   "outputs": [],
   "source": [
    "# %load fact_rec.py\n",
    "def fact_rec(n):\n",
    "\n",
    "    if n == 1:\n",
    "        return n\n",
    "    else:\n",
    "        return n * fact_rec(n - 1)"
   ]
  },
  {
   "cell_type": "code",
   "execution_count": 6,
   "id": "d97388b4",
   "metadata": {},
   "outputs": [
    {
     "data": {
      "text/plain": [
       "6"
      ]
     },
     "execution_count": 6,
     "metadata": {},
     "output_type": "execute_result"
    }
   ],
   "source": [
    "fact_rec(3)"
   ]
  },
  {
   "cell_type": "code",
   "execution_count": 10,
   "id": "8cd89ce7",
   "metadata": {},
   "outputs": [],
   "source": [
    "# %load fibonacci.py\n",
    "def fib(n):\n",
    "    if n == 0 or n == 1:\n",
    "        return 1\n",
    "    \n",
    "    else:\n",
    "        return fib(n -1) + fib(n - 2)\n",
    "    \n",
    "def test_fib(n):\n",
    "    for i in range(n+1):\n",
    "        print('fib of ', i, '=', fib(i))"
   ]
  },
  {
   "cell_type": "code",
   "execution_count": 12,
   "id": "cef370a1",
   "metadata": {},
   "outputs": [
    {
     "name": "stdout",
     "output_type": "stream",
     "text": [
      "fib of  0 = 1\n",
      "fib of  1 = 1\n",
      "fib of  2 = 2\n",
      "fib of  3 = 3\n"
     ]
    }
   ],
   "source": [
    "test_fib(3)"
   ]
  },
  {
   "cell_type": "code",
   "execution_count": 2,
   "id": "1a4d789e",
   "metadata": {},
   "outputs": [],
   "source": [
    "# %load palindrom.py\n",
    "def isPalindrome(s):\n",
    "\n",
    "    def toChars(s):\n",
    "        s = s.lower()\n",
    "        ans = ''\n",
    "        for c in s:\n",
    "            if c in 'abcdefghijklmnopqrstuvwxyz':\n",
    "                ans = ans + c\n",
    "        return ans\n",
    "\n",
    "    def isPal(s):\n",
    "        if len(s) <= 1:\n",
    "            return True\n",
    "        else:\n",
    "            return s[0] == s[-1] and isPal(s[1:-1])\n",
    "\n",
    "    return isPal(toChars(s))\n"
   ]
  },
  {
   "cell_type": "code",
   "execution_count": 3,
   "id": "df45bd37",
   "metadata": {},
   "outputs": [
    {
     "data": {
      "text/plain": [
       "False"
      ]
     },
     "execution_count": 3,
     "metadata": {},
     "output_type": "execute_result"
    }
   ],
   "source": [
    "isPalindrome('asad')"
   ]
  },
  {
   "cell_type": "code",
   "execution_count": 4,
   "id": "ecb0521b",
   "metadata": {},
   "outputs": [
    {
     "data": {
      "text/plain": [
       "True"
      ]
     },
     "execution_count": 4,
     "metadata": {},
     "output_type": "execute_result"
    }
   ],
   "source": [
    "isPalindrome('rotator')"
   ]
  },
  {
   "cell_type": "code",
   "execution_count": 6,
   "id": "a4ed13da",
   "metadata": {},
   "outputs": [],
   "source": [
    "# %load palindromPrint.py\n",
    "def isPalindrome(s):\n",
    "\n",
    "    def toChars(s):\n",
    "        s = s.lower()\n",
    "        ans = ''\n",
    "        for c in s:\n",
    "            if c in 'abcdefghijklmnopqrstuvwxyz':\n",
    "                ans = ans + c\n",
    "        return ans\n",
    "\n",
    "    def isPal(s):\n",
    "        if len(s) <= 1:\n",
    "            print(' About to retrun True from base case')\n",
    "            return True\n",
    "        else:\n",
    "            answer = s[0] == s[-1] and isPal(s[1:-1])\n",
    "            print(' About to return', answer, 'for',s)\n",
    "            return answer\n",
    "\n",
    "    return isPal(toChars(s))\n"
   ]
  },
  {
   "cell_type": "code",
   "execution_count": 7,
   "id": "f6270e07",
   "metadata": {},
   "outputs": [
    {
     "name": "stdout",
     "output_type": "stream",
     "text": [
      " About to return False for asad\n"
     ]
    },
    {
     "data": {
      "text/plain": [
       "False"
      ]
     },
     "execution_count": 7,
     "metadata": {},
     "output_type": "execute_result"
    }
   ],
   "source": [
    "isPalindrome('asad')"
   ]
  },
  {
   "cell_type": "code",
   "execution_count": 8,
   "id": "b50a6106",
   "metadata": {},
   "outputs": [
    {
     "name": "stdout",
     "output_type": "stream",
     "text": [
      " About to retrun True from base case\n",
      " About to return True for tat\n",
      " About to return True for otato\n",
      " About to return True for rotator\n"
     ]
    },
    {
     "data": {
      "text/plain": [
       "True"
      ]
     },
     "execution_count": 8,
     "metadata": {},
     "output_type": "execute_result"
    }
   ],
   "source": [
    "isPalindrome('rotator')"
   ]
  },
  {
   "cell_type": "code",
   "execution_count": 9,
   "id": "cf1d9ac1",
   "metadata": {},
   "outputs": [],
   "source": [
    "s = 'rotator'"
   ]
  },
  {
   "cell_type": "code",
   "execution_count": 10,
   "id": "768bc656",
   "metadata": {},
   "outputs": [
    {
     "data": {
      "text/plain": [
       "True"
      ]
     },
     "execution_count": 10,
     "metadata": {},
     "output_type": "execute_result"
    }
   ],
   "source": [
    "s == s[::-1]"
   ]
  },
  {
   "cell_type": "code",
   "execution_count": null,
   "id": "5205a9b3",
   "metadata": {},
   "outputs": [],
   "source": []
  }
 ],
 "metadata": {
  "kernelspec": {
   "display_name": "Python 3 (ipykernel)",
   "language": "python",
   "name": "python3"
  },
  "language_info": {
   "codemirror_mode": {
    "name": "ipython",
    "version": 3
   },
   "file_extension": ".py",
   "mimetype": "text/x-python",
   "name": "python",
   "nbconvert_exporter": "python",
   "pygments_lexer": "ipython3",
   "version": "3.9.16"
  }
 },
 "nbformat": 4,
 "nbformat_minor": 5
}
